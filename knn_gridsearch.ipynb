{
 "cells": [
  {
   "cell_type": "markdown",
   "metadata": {},
   "source": [
    "In this notebook, we will be running a parameter sweep for the k-Nearest Neighbors model."
   ]
  },
  {
   "cell_type": "markdown",
   "metadata": {},
   "source": [
    "## Style Fix"
   ]
  },
  {
   "cell_type": "code",
   "execution_count": null,
   "metadata": {
    "collapsed": false
   },
   "outputs": [],
   "source": [
    "%%html\n",
    "<style>\n",
    "table {float:left}\n",
    "</style>"
   ]
  },
  {
   "cell_type": "markdown",
   "metadata": {},
   "source": [
    "## Imports"
   ]
  },
  {
   "cell_type": "code",
   "execution_count": null,
   "metadata": {
    "collapsed": true
   },
   "outputs": [],
   "source": [
    "import loadAndClean\n",
    "import random\n",
    "import numpy as np\n",
    "from sklearn.metrics import mean_squared_error\n",
    "from sklearn.neighbors import KNeighborsRegressor"
   ]
  },
  {
   "cell_type": "markdown",
   "metadata": {},
   "source": [
    "## Load data"
   ]
  },
  {
   "cell_type": "code",
   "execution_count": null,
   "metadata": {
    "collapsed": false
   },
   "outputs": [],
   "source": [
    "X = loadAndClean.loadAndClean()\n",
    "X.head(3)"
   ]
  },
  {
   "cell_type": "markdown",
   "metadata": {},
   "source": [
    "## Cross Validation Function\n",
    "\n",
    "This function ensures that a given provider will appear in either the training set or the testing set, but not both, as well as stratifies the data by the DRG Code to guarantee that the model is trained with all possible DRG Codes."
   ]
  },
  {
   "cell_type": "code",
   "execution_count": null,
   "metadata": {
    "collapsed": true
   },
   "outputs": [],
   "source": [
    "def crossVal(clf, X, predictors, cv=3):\n",
    "    random.seed(6)\n",
    "    scores = []\n",
    "    for i in range(cv):\n",
    "        while True:\n",
    "            testIds = random.sample(X['Provider Id'].unique(),500)\n",
    "            testData = X[X['Provider Id'].isin(testIds)]\n",
    "            trainData = X[~X['Provider Id'].isin(testIds)]\n",
    "            if len(testData['DRG Code'].unique()) == len(X['DRG Code'].unique()) and len(trainData['DRG Code'].unique()) == len(X['DRG Code'].unique()):\n",
    "                break\n",
    "        X_train = trainData[predictors]\n",
    "        y_train = trainData['Average Medicare Payments Num']\n",
    "        X_test = testData[predictors]\n",
    "        y_test = testData['Average Medicare Payments Num']\n",
    "        clf.fit(X_train, y_train)\n",
    "        predictions = clf.predict(X_test)\n",
    "        scores.append(mean_squared_error(y_test, predictions)**0.5)\n",
    "\n",
    "    return np.mean(scores)"
   ]
  },
  {
   "cell_type": "markdown",
   "metadata": {},
   "source": [
    "## Grid Search\n",
    "\n",
    "Now we will iterate exhaustively over some possible parameter values for the k-NN model.  The parameters we are looking at are `n_neighbors`, the number of neighbors used in the prediction, and `weights`, whether the neighbors are weighted equally or by the inverse of distance.  The features we'll be using as predictors in the model are Latitude, Longitude, and DRG Code."
   ]
  },
  {
   "cell_type": "code",
   "execution_count": null,
   "metadata": {
    "collapsed": true
   },
   "outputs": [],
   "source": [
    "def gridsearch(X, weights, n_neighbors):\n",
    "    predictors = ['Latitude','Longitude','DRG Code']\n",
    "    best = [None, None, np.inf]\n",
    "    line_str = '|  {: <8}  |  {: <3}  |  {}'\n",
    "    print line_str.format('w', 'n', 'RMSE')\n",
    "    print line_str.format(':--', ':--', ':--')\n",
    "    for w in weights:\n",
    "        for n in n_neighbors:\n",
    "            alg = KNeighborsRegressor(n_neighbors=n, weights=w, n_jobs=4)\n",
    "            score = crossVal(alg, X, predictors, cv=10)\n",
    "            if score < best[2]:\n",
    "                best = [w, n, score]\n",
    "            print line_str.format(w, n, score)\n",
    "\n",
    "    print '\\nBest:'\n",
    "    print '{: <10} {: <5} ${:,.2f}'.format(*best)"
   ]
  },
  {
   "cell_type": "code",
   "execution_count": null,
   "metadata": {
    "collapsed": false
   },
   "outputs": [],
   "source": [
    "weights = ['uniform', 'distance']\n",
    "n_neighbors = [1, 5, 10, 25, 50, 100]\n",
    "gridsearch(X, weights, n_neighbors)"
   ]
  },
  {
   "cell_type": "markdown",
   "metadata": {},
   "source": [
    "Results:\n",
    "\n",
    "| w          | n     | RMSE\n",
    "| :--        | :--   | :--\n",
    "| uniform    | 1     | 2902.07093186\n",
    "| uniform    | 5     | 2498.40236491\n",
    "| uniform    | 10    | 2639.85794093\n",
    "| uniform    | 25    | 3029.05165345\n",
    "| uniform    | 50    | 3440.47657637\n",
    "| uniform    | 100   | 3885.05167983\n",
    "| distance   | 1     | 2902.07093186\n",
    "| distance   | 5     | 2411.13212742\n",
    "|**distance**|**10** |**2402.10445487**\n",
    "| distance   | 25    | 2525.15988371\n",
    "| distance   | 50    | 2726.00126531\n",
    "| distance   | 100   | 2992.50544288\n"
   ]
  },
  {
   "cell_type": "markdown",
   "metadata": {},
   "source": [
    "It looks like the model did the best with a value for `n_neighbors` between 5 and 25 and `weights` set to 'distance', so let's zoom in there."
   ]
  },
  {
   "cell_type": "code",
   "execution_count": null,
   "metadata": {
    "collapsed": false,
    "scrolled": true
   },
   "outputs": [],
   "source": [
    "weights = ['distance']\n",
    "n_neighbors = range(6, 25, 2)\n",
    "gridsearch(X, weights, n_neighbors)"
   ]
  },
  {
   "cell_type": "markdown",
   "metadata": {},
   "source": [
    "Results:\n",
    "\n",
    "| w          | n    | RMSE\n",
    "| :--        | :--  | :--\n",
    "| distance   | 6    | 2402.47325159\n",
    "|**distance**|**8** |**2396.76030874**\n",
    "| distance   | 10   | 2402.10445487\n",
    "| distance   | 12   | 2412.02137187\n",
    "| distance   | 14   | 2427.56467998\n",
    "| distance   | 16   | 2445.20653534\n",
    "| distance   | 18   | 2463.62578598\n",
    "| distance   | 20   | 2481.88697013\n",
    "| distance   | 22   | 2499.45920116\n",
    "| distance   | 24   | 2516.47302241"
   ]
  },
  {
   "cell_type": "markdown",
   "metadata": {},
   "source": [
    "Zooming in ever further, let's check `n_neighbors` of 7, 8, and 9 to find the victor."
   ]
  },
  {
   "cell_type": "code",
   "execution_count": null,
   "metadata": {
    "collapsed": false,
    "scrolled": true
   },
   "outputs": [],
   "source": [
    "weights = ['distance']\n",
    "n_neighbors = [7, 8, 9]\n",
    "gridsearch(X, weights, n_neighbors)"
   ]
  },
  {
   "cell_type": "markdown",
   "metadata": {},
   "source": [
    "Results:\n",
    "\n",
    "|  w         |  n    |  RMSE\n",
    "|  :--       |  :--  |  :--\n",
    "|  distance  |  7    |  2397.19221963\n",
    "|**distance**|**8**  |**2396.76030874**\n",
    "|  distance  |  9    |  2398.27932412"
   ]
  },
  {
   "cell_type": "markdown",
   "metadata": {},
   "source": [
    "The best parameters for our k-NN model are `n_neighbors` of 8 and `weights` set to 'distance'."
   ]
  }
 ],
 "metadata": {
  "kernelspec": {
   "display_name": "Python 2",
   "language": "python",
   "name": "python2"
  },
  "language_info": {
   "codemirror_mode": {
    "name": "ipython",
    "version": 2
   },
   "file_extension": ".py",
   "mimetype": "text/x-python",
   "name": "python",
   "nbconvert_exporter": "python",
   "pygments_lexer": "ipython2",
   "version": "2.7.3"
  }
 },
 "nbformat": 4,
 "nbformat_minor": 0
}
