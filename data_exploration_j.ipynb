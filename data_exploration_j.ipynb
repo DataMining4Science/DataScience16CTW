{
 "cells": [
  {
   "cell_type": "markdown",
   "metadata": {},
   "source": [
    "In this notebook we will be exploring the IPPS dataset."
   ]
  },
  {
   "cell_type": "markdown",
   "metadata": {},
   "source": [
    "# Imports"
   ]
  },
  {
   "cell_type": "code",
   "execution_count": null,
   "metadata": {
    "collapsed": false
   },
   "outputs": [],
   "source": [
    "%matplotlib inline\n",
    "import pandas as pd\n",
    "import numpy as np\n",
    "import matplotlib.pyplot as plt\n",
    "import seaborn as sns\n",
    "import operator"
   ]
  },
  {
   "cell_type": "code",
   "execution_count": null,
   "metadata": {
    "collapsed": false,
    "scrolled": false
   },
   "outputs": [],
   "source": [
    "data = pd.read_csv('IPPS_2013.csv')\n",
    "\n",
    "data.head()"
   ]
  },
  {
   "cell_type": "markdown",
   "metadata": {},
   "source": [
    "The data contains the DRG (diagnosis-related group) definition, information about the provider, the number of discharges for each DRG, and the average covered charges, total payments, and Medicare payments for each DRG for each provider."
   ]
  },
  {
   "cell_type": "markdown",
   "metadata": {},
   "source": [
    "Let's try grouping by DRG and looking at how much the charges and payments vary by provider.  We'll first need to convert the strings representing the dollar amounts into numbers."
   ]
  },
  {
   "cell_type": "code",
   "execution_count": null,
   "metadata": {
    "collapsed": false
   },
   "outputs": [],
   "source": [
    "def str_to_num(s):\n",
    "    \"\"\"\n",
    "    Return a float representing the dollar amount in string s\n",
    "    String s is of the form '$xxxx.xx'\n",
    "    \"\"\"\n",
    "    return float(s[1:])\n",
    "\n",
    "data['Average Covered Charges Num'] = data['Average Covered Charges'].apply(str_to_num)\n",
    "data['Average Total Payments Num'] = data['Average Total Payments'].apply(str_to_num)\n",
    "data['Average Medicare Payments Num'] = data['Average Medicare Payments'].apply(str_to_num)"
   ]
  },
  {
   "cell_type": "code",
   "execution_count": null,
   "metadata": {
    "collapsed": false,
    "scrolled": true
   },
   "outputs": [],
   "source": [
    " \n",
    "cols = ['Average Covered Charges Num', 'Average Total Payments Num', 'Average Medicare Payments Num']\n",
    "\n",
    "n = 10  # Limit the number to show\n",
    "i = 1\n",
    "plt.figure(figsize=(20,60))\n",
    "for drg_name,drg in drgs:\n",
    "    for j,col in enumerate(cols):\n",
    "        plt.subplot(n, 3, i)\n",
    "        drg[col].hist(bins=25)\n",
    "        xmin, xmax = plt.xlim()\n",
    "        plt.xlim(0, xmax)\n",
    "        plt.xlabel('Amount ($)')\n",
    "        plt.ylabel('Count')\n",
    "        plt.legend([col])\n",
    "        if j == 1:\n",
    "            plt.title(drg_name)\n",
    "        i += 1\n",
    "    if i > n * len(cols):\n",
    "        break\n"
   ]
  },
  {
   "cell_type": "markdown",
   "metadata": {},
   "source": [
    "It looks like there's a common trend of the distributions being skewed to the right.  This makes sense to some extent because things cannot cost a negative amount of money.  It also appears that the covered charges are pretty significantly higher than the total payments or medicare payments."
   ]
  },
  {
   "cell_type": "markdown",
   "metadata": {},
   "source": [
    "We have geocoded the providers in the dataset and saved the data in another CSV file.  Let's load this and join it with our existing data to look at things as a function of latitude and longitude."
   ]
  },
  {
   "cell_type": "code",
   "execution_count": null,
   "metadata": {
    "collapsed": false,
    "scrolled": true
   },
   "outputs": [],
   "source": [
    "geo_data = pd.read_csv('provider_geocodes_google.csv')\n",
    "data = data.merge(geo_data, how='left')\n",
    "\n",
    "data.head()"
   ]
  },
  {
   "cell_type": "code",
   "execution_count": null,
   "metadata": {
    "collapsed": false,
    "scrolled": false
   },
   "outputs": [],
   "source": [
    "drgs = data[data.Latitude.notnull()].groupby('DRG Definition')\n",
    "cols = ['Average Covered Charges Num', 'Average Total Payments Num', 'Average Medicare Payments Num']\n",
    "\n",
    "n = 10  # Limit the number to show\n",
    "i = 1\n",
    "plt.figure(figsize=(20,60))\n",
    "for drg_name,drg in drgs:\n",
    "    for j,col in enumerate(cols):\n",
    "        plt.subplot(n, 3, i)\n",
    "        drg = drg[drg.Latitude.notnull()]\n",
    "        plt.scatter(drg.Longitude, drg.Latitude, c=drg[col])\n",
    "        plt.xlabel('Latitude')\n",
    "        plt.ylabel('Longitude')\n",
    "        plt.legend([col])\n",
    "        plt.colorbar(orientation='horizontal')\n",
    "        plt.axis((-130,-65,25,50))\n",
    "        if j == 1:\n",
    "            plt.title(drg_name)\n",
    "        i += 1\n",
    "    if i > n * len(cols):\n",
    "        break"
   ]
  },
  {
   "cell_type": "markdown",
   "metadata": {},
   "source": [
    "Let's look at which procedures and costs are most common"
   ]
  },
  {
   "cell_type": "code",
   "execution_count": null,
   "metadata": {
    "collapsed": false,
    "scrolled": true
   },
   "outputs": [],
   "source": [
    "dischargeCountByDrg = {}\n",
    "for drg_name,drg in drgs:\n",
    "    dischargeCountByDrg[drg_name] = drg['Total Discharges'].sum()\n",
    "sortedDrgByCount = sorted(dischargeCountByDrg.items(), key=operator.itemgetter(1))\n",
    "#print sortedDrgByCount"
   ]
  },
  {
   "cell_type": "code",
   "execution_count": null,
   "metadata": {
    "collapsed": false
   },
   "outputs": [],
   "source": [
    "width = 12\n",
    "height = 12\n",
    "plt.figure(figsize=(width, height))\n",
    "plt.ylabel('Count')\n",
    "plt.bar(np.arange(len(sortedDrgByCount)), [x[1] for x in sortedDrgByCount])\n",
    "plt.xticks(np.arange(len(sortedDrgByCount)), [x[0] for x in sortedDrgByCount]);"
   ]
  },
  {
   "cell_type": "markdown",
   "metadata": {},
   "source": [
    "Since the labels are completely unreadable with this many DRGs let just look at the top 10"
   ]
  },
  {
   "cell_type": "code",
   "execution_count": null,
   "metadata": {
    "collapsed": false
   },
   "outputs": [],
   "source": [
    "plt.figure(figsize=(width, height))\n",
    "# plt.setp(labels, rotation=60)\n",
    "top10 = sortedDrgByCount[-10:]\n",
    "plt.ylabel('Count')\n",
    "plt.bar(np.arange(len(top10)), [x[1] for x in top10])\n",
    "plt.xticks(np.arange(len(top10)), [x[0] for x in top10], rotation=80 );"
   ]
  },
  {
   "cell_type": "code",
   "execution_count": null,
   "metadata": {
    "collapsed": true
   },
   "outputs": [],
   "source": []
  }
 ],
 "metadata": {
  "kernelspec": {
   "display_name": "Python 2",
   "language": "python",
   "name": "python2"
  },
  "language_info": {
   "codemirror_mode": {
    "name": "ipython",
    "version": 2
   },
   "file_extension": ".py",
   "mimetype": "text/x-python",
   "name": "python",
   "nbconvert_exporter": "python",
   "pygments_lexer": "ipython2",
   "version": "2.7.11"
  }
 },
 "nbformat": 4,
 "nbformat_minor": 0
}
