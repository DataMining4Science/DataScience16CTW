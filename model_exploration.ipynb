{
 "cells": [
  {
   "cell_type": "markdown",
   "metadata": {},
   "source": [
    "# Model Exploration\n",
    "\n",
    "In this notebook, we will be exploring various models and trying to predict cost based on location and type of procedure."
   ]
  },
  {
   "cell_type": "markdown",
   "metadata": {},
   "source": [
    "## Style Fix"
   ]
  },
  {
   "cell_type": "code",
   "execution_count": null,
   "metadata": {
    "collapsed": false
   },
   "outputs": [],
   "source": [
    "%%html\n",
    "<style>\n",
    "table {float:left}\n",
    "</style>"
   ]
  },
  {
   "cell_type": "markdown",
   "metadata": {},
   "source": [
    "## Imports"
   ]
  },
  {
   "cell_type": "code",
   "execution_count": null,
   "metadata": {
    "collapsed": false
   },
   "outputs": [],
   "source": [
    "import loadAndClean\n",
    "import pandas as pd\n",
    "import numpy as npfrom sklearn import cross_validation\n",
    "from sklearn.metrics import mean_squared_error\n",
    "from sklearn.ensemble import RandomForestRegressor\n",
    "from sklearn.linear_model import LinearRegression\n",
    "import xgboost as xgb"
   ]
  },
  {
   "cell_type": "markdown",
   "metadata": {},
   "source": [
    "## Load Cleaned Data and Split for Cross Validation"
   ]
  },
  {
   "cell_type": "code",
   "execution_count": null,
   "metadata": {
    "collapsed": false,
    "scrolled": false
   },
   "outputs": [],
   "source": [
    "X = loadAndClean.loadAndClean()\n",
    "X.describe()"
   ]
  },
  {
   "cell_type": "markdown",
   "metadata": {},
   "source": [
    "## Cross Validation Function"
   ]
  },
  {
   "cell_type": "code",
   "execution_count": null,
   "metadata": {
    "collapsed": true
   },
   "outputs": [],
   "source": [
    "def crossVal(clf, X, y, stratify_series=None, cv=3):\n",
    "    if stratify_series is None:\n",
    "        stratify_series = X['DRG Code']\n",
    "    scores = []\n",
    "    for i in range(cv):\n",
    "        X_train, X_test, y_train, y_test = cross_validation.train_test_split(X, y, test_size=0.5, stratify=np.array(stratify_series))\n",
    "        clf.fit(X_train, y_train)\n",
    "        predictions = clf.predict(X_test)\n",
    "        scores.append(mean_squared_error(y_test, predictions)**0.5)\n",
    "        print scores[i]\n",
    "    print \"Average RMSE: ${:,.2f}\".format(np.mean(scores))"
   ]
  },
  {
   "cell_type": "markdown",
   "metadata": {},
   "source": [
    "## Baseline Models"
   ]
  },
  {
   "cell_type": "markdown",
   "metadata": {},
   "source": [
    "For our first baseline model, we will simply predict the average cost regardless of what the data is."
   ]
  },
  {
   "cell_type": "code",
   "execution_count": null,
   "metadata": {
    "collapsed": false
   },
   "outputs": [],
   "source": [
    "class baseline(object):\n",
    "    def __init__(self):\n",
    "        self.has_fit = False\n",
    "        \n",
    "    def fit(self, X_train, y_train):\n",
    "        self.average_value = y_train.mean()\n",
    "        self.has_fit = True\n",
    "\n",
    "    def predict(self, X_test):\n",
    "        if self.has_fit:\n",
    "            return np.ones((len(X_test),)) * self.average_value\n",
    "        return None\n",
    "\n",
    "alg = baseline()\n",
    "crossVal(alg, X, X['Average Medicare Payments Num'])"
   ]
  },
  {
   "cell_type": "markdown",
   "metadata": {},
   "source": [
    "As expected, this model did not perform particularly well.  The root mean squared error was ~$7,500.\n",
    "\n",
    "For a more sophisticated baseline model, we will predict the average cost for the given DRG."
   ]
  },
  {
   "cell_type": "code",
   "execution_count": null,
   "metadata": {
    "collapsed": false,
    "scrolled": true
   },
   "outputs": [],
   "source": [
    "class grouped_baseline(object):\n",
    "    def __init__(self):\n",
    "        self.has_fit = False\n",
    "\n",
    "    def fit(self, X_train, y_train):\n",
    "        X_train = X_train.copy()\n",
    "        X_train['Cost'] = y_train\n",
    "        groups = X_train.groupby(['DRG Code'])\n",
    "\n",
    "        # Average the cost for each DRG\n",
    "        self.drg_costs = {}\n",
    "        for ind,data in groups:\n",
    "            self.drg_costs[ind] = data['Cost'].mean()\n",
    "\n",
    "        self.has_fit = True\n",
    "\n",
    "    def predict(self, X_test):\n",
    "        if self.has_fit:\n",
    "            return X_test['DRG Code'].apply(lambda x: self.drg_costs[x])\n",
    "        return None\n",
    "\n",
    "alg = grouped_baseline()\n",
    "crossVal(alg, X, X['Average Medicare Payments Num'])"
   ]
  },
  {
   "cell_type": "markdown",
   "metadata": {},
   "source": [
    "This model did much better, having a RMSE of ~$2,900.  However, we think we can do better by also using the location information."
   ]
  },
  {
   "cell_type": "markdown",
   "metadata": {},
   "source": [
    "## Random Forest Regressor\n",
    "\n",
    "We will start with a Random Forest, since we have had success with them in the past.  This time, however, it will need to be a Random Forest Regressor instead of a Random Forest Classifier since we want it to predict a continuous value."
   ]
  },
  {
   "cell_type": "code",
   "execution_count": null,
   "metadata": {
    "collapsed": false,
    "scrolled": true
   },
   "outputs": [],
   "source": [
    "predictors = ['Latitude','Longitude','DRG Code']\n",
    "alg = RandomForestRegressor(n_estimators=50)\n",
    "crossVal(alg, X[predictors], X['Average Medicare Payments Num'])"
   ]
  },
  {
   "cell_type": "markdown",
   "metadata": {},
   "source": [
    "It did better than either of our baseline models, with a RMSE of ~$2,300, but we're not too sure if this is a great result.  We'll try some other models to see if we can do better."
   ]
  },
  {
   "cell_type": "markdown",
   "metadata": {},
   "source": [
    "## Linear Regression\n",
    "\n",
    "The next model we will try is Linear Regression, but we don't have too high of hopes for it if we just use raw Latitude, Longitude, and DRG Code as the features since there's probably not a linear relationship between them and the cost."
   ]
  },
  {
   "cell_type": "code",
   "execution_count": null,
   "metadata": {
    "collapsed": false
   },
   "outputs": [],
   "source": [
    "predictors = ['Latitude','Longitude','DRG Code']\n",
    "alg = LinearRegression()\n",
    "crossVal(alg, X[predictors], X['Average Medicare Payments Num'])"
   ]
  },
  {
   "cell_type": "markdown",
   "metadata": {},
   "source": [
    "As expected, this didn't do too well, resulting in a RMSE of ~$7,500 (about the same as our initial baseline model).  We can help out the model by one-hot encoding the DRG Codes, so we'll try that next."
   ]
  },
  {
   "cell_type": "code",
   "execution_count": null,
   "metadata": {
    "collapsed": false,
    "scrolled": true
   },
   "outputs": [],
   "source": [
    "one_hot_drg = pd.get_dummies(X['DRG Code'])\n",
    "\n",
    "predictors = ['Latitude','Longitude']\n",
    "X_one_hot = pd.concat([X[predictors], one_hot_drg], axis=1)\n",
    "\n",
    "alg = LinearRegression()\n",
    "crossVal(alg, X_one_hot, X['Average Medicare Payments Num'], X['DRG Code'])"
   ]
  },
  {
   "cell_type": "markdown",
   "metadata": {},
   "source": [
    "That helped a lot!  Now the RMSE is ~$2,800, slightly better than our grouped baseline model, but not as good as the Random Forest.  We might be able to do better by using the discrete Hospital Referral Regions (HRRs) instead of the continuous Latitude and Longitude values since they're probably not linearly related to the cost."
   ]
  },
  {
   "cell_type": "code",
   "execution_count": null,
   "metadata": {
    "collapsed": false
   },
   "outputs": [],
   "source": [
    "predictors = ['Provider HRR Num']\n",
    "X_one_hot= pd.concat([X[predictors], one_hot_drg], axis=1)\n",
    "\n",
    "alg = LinearRegression()\n",
    "crossVal(alg, X_one_hot, X['Average Medicare Payments Num'], X['DRG Code'])"
   ]
  },
  {
   "cell_type": "markdown",
   "metadata": {},
   "source": [
    "Using HRRs resulted in a RMSE of ~$2,900, but one-hot encoding them will probably help."
   ]
  },
  {
   "cell_type": "code",
   "execution_count": null,
   "metadata": {
    "collapsed": false
   },
   "outputs": [],
   "source": [
    "one_hot_hrr = pd.get_dummies(X['Provider HRR Num'])\n",
    "\n",
    "X_one_hot = pd.concat([one_hot_hrr, one_hot_drg], axis=1)\n",
    "\n",
    "alg = LinearRegression()\n",
    "crossVal(alg, X_one_hot, X['Average Medicare Payments Num'], X['DRG Code'])"
   ]
  },
  {
   "cell_type": "markdown",
   "metadata": {},
   "source": [
    "The one-hot encoding brought the RMSE down to ~$2,400, but this still isn't quite as good as our Random Forest model."
   ]
  },
  {
   "cell_type": "markdown",
   "metadata": {},
   "source": [
    "## eXtreme Gradient Boosting"
   ]
  },
  {
   "cell_type": "code",
   "execution_count": null,
   "metadata": {
    "collapsed": false
   },
   "outputs": [],
   "source": [
    "predictors = ['Latitude','Longitude','DRG Code']\n",
    "alg = xgb.XGBRegressor(n_estimators=5000)\n",
    "crossVal(alg, X[predictors], X['Average Medicare Payments Num'])"
   ]
  },
  {
   "cell_type": "markdown",
   "metadata": {
    "collapsed": true
   },
   "source": [
    "This is the best model so far with a RMSE of ~$1,800."
   ]
  },
  {
   "cell_type": "markdown",
   "metadata": {
    "collapsed": true
   },
   "source": [
    "## Summary of Model Results\n",
    "\n",
    "\n",
    "| Model                       | RMSE\n",
    "| :---                        | ---:\n",
    "| Baseline                    | \\$7,500\n",
    "| Grouped Baseline            | \\$2,900\n",
    "| Random Forest (50)          | \\$2,300\n",
    "| Linear Reg. (one-hot enc.)  | \\$2,400\n",
    "| XGB (500)                   | \\$1,800"
   ]
  }
 ],
 "metadata": {
  "kernelspec": {
   "display_name": "Python 2",
   "language": "python",
   "name": "python2"
  },
  "language_info": {
   "codemirror_mode": {
    "name": "ipython",
    "version": 2
   },
   "file_extension": ".py",
   "mimetype": "text/x-python",
   "name": "python",
   "nbconvert_exporter": "python",
   "pygments_lexer": "ipython2",
   "version": "2.7.3"
  }
 },
 "nbformat": 4,
 "nbformat_minor": 0
}
