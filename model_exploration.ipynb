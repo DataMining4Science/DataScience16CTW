{
 "cells": [
  {
   "cell_type": "code",
   "execution_count": 8,
   "metadata": {
    "collapsed": false
   },
   "outputs": [],
   "source": [
    "import loadAndClean\n",
    "from sklearn.ensemble import RandomForestRegressor\n",
    "from sklearn import cross_validation"
   ]
  },
  {
   "cell_type": "code",
   "execution_count": 3,
   "metadata": {
    "collapsed": false
   },
   "outputs": [
    {
     "data": {
      "text/html": [
       "<div>\n",
       "<table border=\"1\" class=\"dataframe\">\n",
       "  <thead>\n",
       "    <tr style=\"text-align: right;\">\n",
       "      <th></th>\n",
       "      <th>Provider Id</th>\n",
       "      <th>Provider Zip Code</th>\n",
       "      <th>Total Discharges</th>\n",
       "      <th>Average Covered Charges Num</th>\n",
       "      <th>Average Total Payments Num</th>\n",
       "      <th>Average Medicare Payments Num</th>\n",
       "      <th>DRG Code</th>\n",
       "      <th>Latitude</th>\n",
       "      <th>Longitude</th>\n",
       "    </tr>\n",
       "  </thead>\n",
       "  <tbody>\n",
       "    <tr>\n",
       "      <th>count</th>\n",
       "      <td>153600.000000</td>\n",
       "      <td>153600.000000</td>\n",
       "      <td>153600.000000</td>\n",
       "      <td>153600.000000</td>\n",
       "      <td>153600.000000</td>\n",
       "      <td>153600.000000</td>\n",
       "      <td>153600.000000</td>\n",
       "      <td>153600.000000</td>\n",
       "      <td>153600.000000</td>\n",
       "    </tr>\n",
       "    <tr>\n",
       "      <th>mean</th>\n",
       "      <td>255800.984069</td>\n",
       "      <td>48052.483874</td>\n",
       "      <td>42.429115</td>\n",
       "      <td>40864.468878</td>\n",
       "      <td>10424.769029</td>\n",
       "      <td>8848.750017</td>\n",
       "      <td>402.630436</td>\n",
       "      <td>37.527665</td>\n",
       "      <td>-89.767584</td>\n",
       "    </tr>\n",
       "    <tr>\n",
       "      <th>std</th>\n",
       "      <td>152328.951075</td>\n",
       "      <td>27906.442510</td>\n",
       "      <td>53.034475</td>\n",
       "      <td>39014.451261</td>\n",
       "      <td>8170.682544</td>\n",
       "      <td>7530.985553</td>\n",
       "      <td>234.099932</td>\n",
       "      <td>5.069681</td>\n",
       "      <td>14.777029</td>\n",
       "    </tr>\n",
       "    <tr>\n",
       "      <th>min</th>\n",
       "      <td>10001.000000</td>\n",
       "      <td>1040.000000</td>\n",
       "      <td>11.000000</td>\n",
       "      <td>2398.640000</td>\n",
       "      <td>2233.910000</td>\n",
       "      <td>1220.000000</td>\n",
       "      <td>39.000000</td>\n",
       "      <td>19.519948</td>\n",
       "      <td>-161.755833</td>\n",
       "    </tr>\n",
       "    <tr>\n",
       "      <th>25%</th>\n",
       "      <td>110083.000000</td>\n",
       "      <td>27330.000000</td>\n",
       "      <td>17.000000</td>\n",
       "      <td>18066.970000</td>\n",
       "      <td>5607.747500</td>\n",
       "      <td>4386.857500</td>\n",
       "      <td>208.000000</td>\n",
       "      <td>33.902935</td>\n",
       "      <td>-95.695629</td>\n",
       "    </tr>\n",
       "    <tr>\n",
       "      <th>50%</th>\n",
       "      <td>250001.000000</td>\n",
       "      <td>44512.000000</td>\n",
       "      <td>27.000000</td>\n",
       "      <td>28706.500000</td>\n",
       "      <td>7737.780000</td>\n",
       "      <td>6393.740000</td>\n",
       "      <td>314.000000</td>\n",
       "      <td>38.576702</td>\n",
       "      <td>-85.828735</td>\n",
       "    </tr>\n",
       "    <tr>\n",
       "      <th>75%</th>\n",
       "      <td>380071.000000</td>\n",
       "      <td>72956.000000</td>\n",
       "      <td>48.000000</td>\n",
       "      <td>49047.665000</td>\n",
       "      <td>12129.882500</td>\n",
       "      <td>10483.682500</td>\n",
       "      <td>602.000000</td>\n",
       "      <td>41.335133</td>\n",
       "      <td>-79.942215</td>\n",
       "    </tr>\n",
       "    <tr>\n",
       "      <th>max</th>\n",
       "      <td>670085.000000</td>\n",
       "      <td>99801.000000</td>\n",
       "      <td>3680.000000</td>\n",
       "      <td>857124.820000</td>\n",
       "      <td>170123.380000</td>\n",
       "      <td>124829.690000</td>\n",
       "      <td>948.000000</td>\n",
       "      <td>64.831157</td>\n",
       "      <td>-67.998587</td>\n",
       "    </tr>\n",
       "  </tbody>\n",
       "</table>\n",
       "</div>"
      ],
      "text/plain": [
       "         Provider Id  Provider Zip Code  Total Discharges  \\\n",
       "count  153600.000000      153600.000000     153600.000000   \n",
       "mean   255800.984069       48052.483874         42.429115   \n",
       "std    152328.951075       27906.442510         53.034475   \n",
       "min     10001.000000        1040.000000         11.000000   \n",
       "25%    110083.000000       27330.000000         17.000000   \n",
       "50%    250001.000000       44512.000000         27.000000   \n",
       "75%    380071.000000       72956.000000         48.000000   \n",
       "max    670085.000000       99801.000000       3680.000000   \n",
       "\n",
       "       Average Covered Charges Num  Average Total Payments Num  \\\n",
       "count                153600.000000               153600.000000   \n",
       "mean                  40864.468878                10424.769029   \n",
       "std                   39014.451261                 8170.682544   \n",
       "min                    2398.640000                 2233.910000   \n",
       "25%                   18066.970000                 5607.747500   \n",
       "50%                   28706.500000                 7737.780000   \n",
       "75%                   49047.665000                12129.882500   \n",
       "max                  857124.820000               170123.380000   \n",
       "\n",
       "       Average Medicare Payments Num       DRG Code       Latitude  \\\n",
       "count                  153600.000000  153600.000000  153600.000000   \n",
       "mean                     8848.750017     402.630436      37.527665   \n",
       "std                      7530.985553     234.099932       5.069681   \n",
       "min                      1220.000000      39.000000      19.519948   \n",
       "25%                      4386.857500     208.000000      33.902935   \n",
       "50%                      6393.740000     314.000000      38.576702   \n",
       "75%                     10483.682500     602.000000      41.335133   \n",
       "max                    124829.690000     948.000000      64.831157   \n",
       "\n",
       "           Longitude  \n",
       "count  153600.000000  \n",
       "mean      -89.767584  \n",
       "std        14.777029  \n",
       "min      -161.755833  \n",
       "25%       -95.695629  \n",
       "50%       -85.828735  \n",
       "75%       -79.942215  \n",
       "max       -67.998587  "
      ]
     },
     "execution_count": 3,
     "metadata": {},
     "output_type": "execute_result"
    }
   ],
   "source": [
    "data = loadAndClean.loadAndClean()\n",
    "data.describe()"
   ]
  },
  {
   "cell_type": "code",
   "execution_count": 17,
   "metadata": {
    "collapsed": false
   },
   "outputs": [
    {
     "name": "stderr",
     "output_type": "stream",
     "text": [
      "[Parallel(n_jobs=4)]: Done  42 tasks      | elapsed:    3.1s\n",
      "[Parallel(n_jobs=4)]: Done 192 tasks      | elapsed:   14.5s\n",
      "[Parallel(n_jobs=4)]: Done 442 tasks      | elapsed:   36.1s\n",
      "[Parallel(n_jobs=4)]: Done 500 out of 500 | elapsed:   40.2s finished\n",
      "[Parallel(n_jobs=4)]: Done  42 tasks      | elapsed:    0.1s\n",
      "[Parallel(n_jobs=4)]: Done 192 tasks      | elapsed:    0.3s\n",
      "[Parallel(n_jobs=4)]: Done 442 tasks      | elapsed:    0.6s\n",
      "[Parallel(n_jobs=4)]: Done 500 out of 500 | elapsed:    0.7s finished\n",
      "[Parallel(n_jobs=4)]: Done  42 tasks      | elapsed:    5.3s\n",
      "[Parallel(n_jobs=4)]: Done 192 tasks      | elapsed:   17.2s\n",
      "[Parallel(n_jobs=4)]: Done 442 tasks      | elapsed:   41.5s\n",
      "[Parallel(n_jobs=4)]: Done 500 out of 500 | elapsed:   45.6s finished\n",
      "[Parallel(n_jobs=4)]: Done  42 tasks      | elapsed:    0.1s\n",
      "[Parallel(n_jobs=4)]: Done 192 tasks      | elapsed:    0.3s\n",
      "[Parallel(n_jobs=4)]: Done 442 tasks      | elapsed:    1.2s\n",
      "[Parallel(n_jobs=4)]: Done 500 out of 500 | elapsed:    1.4s finished\n",
      "[Parallel(n_jobs=4)]: Done  42 tasks      | elapsed:    5.4s\n",
      "[Parallel(n_jobs=4)]: Done 192 tasks      | elapsed:   20.7s\n",
      "[Parallel(n_jobs=4)]: Done 442 tasks      | elapsed:   50.0s\n",
      "[Parallel(n_jobs=4)]: Done 500 out of 500 | elapsed:   57.2s finished\n",
      "[Parallel(n_jobs=4)]: Done  42 tasks      | elapsed:    0.1s\n",
      "[Parallel(n_jobs=4)]: Done 192 tasks      | elapsed:    0.3s\n",
      "[Parallel(n_jobs=4)]: Done 442 tasks      | elapsed:    0.6s\n",
      "[Parallel(n_jobs=4)]: Done 500 out of 500 | elapsed:    0.7s finished\n"
     ]
    },
    {
     "name": "stdout",
     "output_type": "stream",
     "text": [
      "-71182570.1756\n"
     ]
    }
   ],
   "source": [
    "clf = RandomForestRegressor(n_estimators=500, n_jobs=4, verbose=3)\n",
    "predictorsRan = ['Latitude','Longitude','DRG Code']\n",
    "scores = cross_validation.cross_val_score(clf, data[predictorsRan], data[\"Average Medicare Payments Num\"], scoring='mean_squared_error' ,cv=3)\n",
    "print scores.mean()"
   ]
  },
  {
   "cell_type": "code",
   "execution_count": 18,
   "metadata": {
    "collapsed": false
   },
   "outputs": [
    {
     "data": {
      "text/plain": [
       "array([-58611787.89855418, -55504780.32192636, -99431142.30621368])"
      ]
     },
     "execution_count": 18,
     "metadata": {},
     "output_type": "execute_result"
    }
   ],
   "source": [
    "scores"
   ]
  },
  {
   "cell_type": "code",
   "execution_count": null,
   "metadata": {
    "collapsed": true
   },
   "outputs": [],
   "source": []
  }
 ],
 "metadata": {
  "kernelspec": {
   "display_name": "Python 2",
   "language": "python",
   "name": "python2"
  },
  "language_info": {
   "codemirror_mode": {
    "name": "ipython",
    "version": 2
   },
   "file_extension": ".py",
   "mimetype": "text/x-python",
   "name": "python",
   "nbconvert_exporter": "python",
   "pygments_lexer": "ipython2",
   "version": "2.7.11"
  }
 },
 "nbformat": 4,
 "nbformat_minor": 0
}
