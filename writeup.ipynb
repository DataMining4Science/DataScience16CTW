{
 "cells": [
  {
   "cell_type": "markdown",
   "metadata": {},
   "source": [
    "# Writeup\n",
    "\n",
    "The notebook contains the final writeup for our project, including visualizations from data exploration and our final model.  Our project consisted of ... [include what IPPS and DRG are]"
   ]
  },
  {
   "cell_type": "markdown",
   "metadata": {},
   "source": [
    "## Style Fix"
   ]
  },
  {
   "cell_type": "code",
   "execution_count": null,
   "metadata": {
    "collapsed": false
   },
   "outputs": [],
   "source": [
    "%%html\n",
    "<style>\n",
    "table {float:left}\n",
    "</style>"
   ]
  },
  {
   "cell_type": "markdown",
   "metadata": {},
   "source": [
    "## Imports"
   ]
  },
  {
   "cell_type": "code",
   "execution_count": null,
   "metadata": {
    "collapsed": false
   },
   "outputs": [],
   "source": [
    "%matplotlib inline\n",
    "import loadAndClean\n",
    "import random\n",
    "import numpy as np\n",
    "import matplotlib.pyplot as plt\n",
    "import seaborn as sns\n",
    "from sklearn.metrics import mean_squared_error\n",
    "from sklearn.ensemble import RandomForestRegressor"
   ]
  },
  {
   "cell_type": "markdown",
   "metadata": {},
   "source": [
    "## Load Cleaned Data\n",
    "\n",
    "In a script we wrote, `loadAndClean.py`, we load the IPPS data and do some preprocessing on it.  We create numerical columns from values that were originally strings, numerically encode categorical features, and merge in our geocoding data.  The geocoding data is latitude and longitude values obtained by running the provider addresses through the Google Maps API."
   ]
  },
  {
   "cell_type": "code",
   "execution_count": null,
   "metadata": {
    "collapsed": false
   },
   "outputs": [],
   "source": [
    "X = loadAndClean.loadAndClean()\n",
    "X.head(3)"
   ]
  },
  {
   "cell_type": "markdown",
   "metadata": {},
   "source": [
    "There are three columns in the data that we were interested in predicting:  _Average Covered Charges_ (how much the provider charges), _Average Total Payments_ (how much the provider actually gets paid), and _Average Medicare Payments_ (how much of that Medicare pays).  We decided to focus mainly on the third amount when developing our models because we thought it would be the easiest to predict since Medicare uses a formula to determine this amount (with exceptions for special cases)."
   ]
  },
  {
   "cell_type": "markdown",
   "metadata": {},
   "source": [
    "## Data Exploration\n",
    "\n",
    "Before creating our models, we explored and visualized different aspects of the data.  To see if it would be reasonable to predict the Medicare payment for a procedure, we looked at the data by DRG and geography.  First, since creating visuals for all 100 DRGs would be a bit much, we looked at the most common procedures to select a subset to look at."
   ]
  },
  {
   "cell_type": "code",
   "execution_count": null,
   "metadata": {
    "collapsed": false
   },
   "outputs": [],
   "source": [
    "dischargeCountByDrg = []\n",
    "for drg_name,drg in X.groupby('DRG Definition'):\n",
    "    dischargeCountByDrg.append((drg['Total Discharges'].sum(), drg_name))\n",
    "sortedDrgByCount = sorted(dischargeCountByDrg, reverse=True)\n",
    "\n",
    "plt.figure(figsize=(15, 5))\n",
    "top10 = sortedDrgByCount[:10]\n",
    "plt.ylabel('Count')\n",
    "plt.bar(np.arange(len(top10)), [x[0] for x in top10])\n",
    "plt.xticks(np.arange(len(top10)), [x[1] for x in top10], rotation=80);"
   ]
  },
  {
   "cell_type": "markdown",
   "metadata": {},
   "source": []
  },
  {
   "cell_type": "code",
   "execution_count": null,
   "metadata": {
    "collapsed": false,
    "scrolled": false
   },
   "outputs": [],
   "source": [
    "drg_codes = [470, 871, 392, 292]\n",
    "cols = ['Average Covered Charges Num', 'Average Total Payments Num', 'Average Medicare Payments Num']\n",
    "\n",
    "plt.figure(figsize=(15,5*len(drg_codes)))\n",
    "i = 1\n",
    "for drg_code in drg_codes:\n",
    "    drg = X[X['DRG Code'] == drg_code]\n",
    "    drg_name = drg['DRG Definition'].values[0]\n",
    "    for j,col in enumerate(cols):\n",
    "        plt.subplot(len(drg_codes), 3, i)\n",
    "        drg[col].hist(bins=25)\n",
    "        xmin, xmax = plt.xlim()\n",
    "        plt.xlim(0, xmax)\n",
    "        plt.xlabel('Amount ($)')\n",
    "        plt.ylabel('Count')\n",
    "        plt.legend([col])\n",
    "        if j == 1:\n",
    "            plt.title(drg_name)\n",
    "        i += 1"
   ]
  },
  {
   "cell_type": "markdown",
   "metadata": {},
   "source": []
  },
  {
   "cell_type": "code",
   "execution_count": null,
   "metadata": {
    "collapsed": false
   },
   "outputs": [],
   "source": [
    "drg_codes = [470, 871, 392, 292]\n",
    "cols = ['Average Covered Charges Num', 'Average Total Payments Num', 'Average Medicare Payments Num']\n",
    "\n",
    "plt.figure(figsize=(15,5*len(drg_codes)))\n",
    "i = 1\n",
    "for drg_code in drg_codes:\n",
    "    drg = X[X['DRG Code'] == drg_code]\n",
    "    drg_name = drg['DRG Definition'].values[0]\n",
    "    for j,col in enumerate(cols):\n",
    "        plt.subplot(len(drg_codes), 3, i)\n",
    "        plt.hexbin(drg['Longitude'], drg['Latitude'], C=drg[col], gridsize=40)\n",
    "        plt.xlabel('Latitude')\n",
    "        plt.ylabel('Longitude')\n",
    "        cbar = plt.colorbar(orientation='horizontal')\n",
    "        cbar.set_label(col)\n",
    "        plt.axis((-130,-65,25,50))\n",
    "        if j == 1:\n",
    "            plt.title(drg_name)\n",
    "        i += 1"
   ]
  },
  {
   "cell_type": "markdown",
   "metadata": {},
   "source": []
  },
  {
   "cell_type": "markdown",
   "metadata": {},
   "source": [
    "## Model\n",
    "The model that we had the most success with was a Random Forest. [more here?]"
   ]
  },
  {
   "cell_type": "markdown",
   "metadata": {},
   "source": [
    "### Cross Validation Function\n",
    "\n",
    "In order to test our models, we created a helper function for cross validation.  It takes all of the data from 500 randomly-selected providers to use as the test data, but also checks that each procedure is present in both the train and test data."
   ]
  },
  {
   "cell_type": "code",
   "execution_count": null,
   "metadata": {
    "collapsed": true
   },
   "outputs": [],
   "source": [
    "def crossVal(clf, X, predictors, y_col='Average Medicare Payments Num', cv=3):\n",
    "    random.seed(2016)\n",
    "    scores = []\n",
    "    for i in range(cv):\n",
    "        while True:\n",
    "            testIds = random.sample(X['Provider Id'].unique(),500)\n",
    "            testData = X[X['Provider Id'].isin(testIds)]\n",
    "            trainData = X[~X['Provider Id'].isin(testIds)]\n",
    "            if len(testData['DRG Code'].unique()) == len(X['DRG Code'].unique()) and len(trainData['DRG Code'].unique()) == len(X['DRG Code'].unique()):\n",
    "                break\n",
    "        X_train = trainData[predictors]\n",
    "        y_train = trainData[y_col]\n",
    "        X_test = testData[predictors]\n",
    "        y_test = testData[y_col]\n",
    "        clf.fit(X_train, y_train)\n",
    "        predictions = clf.predict(X_test)\n",
    "        scores.append(mean_squared_error(y_test, predictions)**0.5)\n",
    "        print scores[i]\n",
    "    print \"Average RMSE: ${:,.2f}\".format(np.mean(scores))"
   ]
  },
  {
   "cell_type": "markdown",
   "metadata": {},
   "source": [
    "### Grouped Baseline\n",
    "\n",
    "This baseline simply estimates the medicare payment by guessing the average cost for the given DRG code"
   ]
  },
  {
   "cell_type": "code",
   "execution_count": null,
   "metadata": {
    "collapsed": true
   },
   "outputs": [],
   "source": [
    "class grouped_baseline(object):\n",
    "    def __init__(self):\n",
    "        self.has_fit = False\n",
    "\n",
    "    def fit(self, X_train, y_train):\n",
    "        X_train = X_train.copy()\n",
    "        X_train['Cost'] = y_train\n",
    "        groups = X_train.groupby(['DRG Code'])\n",
    "\n",
    "        # Average the cost for each DRG\n",
    "        self.drg_costs = {}\n",
    "        for ind,data in groups:\n",
    "            self.drg_costs[ind] = data['Cost'].mean()\n",
    "\n",
    "        self.has_fit = True\n",
    "\n",
    "    def predict(self, X_test):\n",
    "        if self.has_fit:\n",
    "            return X_test['DRG Code'].apply(lambda x: self.drg_costs[x])\n",
    "        return None"
   ]
  },
  {
   "cell_type": "code",
   "execution_count": null,
   "metadata": {
    "collapsed": false
   },
   "outputs": [],
   "source": [
    "alg = grouped_baseline()\n",
    "crossVal(alg, X, ['DRG Code'],cv=5)"
   ]
  },
  {
   "cell_type": "markdown",
   "metadata": {},
   "source": [
    "Guessing the average for the given DRG code yields a RMSE of ~$2800. We expect all of our real models to have a lower RMSE than this once they account for geographic data. "
   ]
  },
  {
   "cell_type": "markdown",
   "metadata": {},
   "source": [
    "### Best Model\n",
    "\n",
    "After exploring different models and doing parameter sweeps. The best model we were able to find was a random forest with 200 trees, a max-depth of 22 and a min_sample_split of 18."
   ]
  },
  {
   "cell_type": "code",
   "execution_count": null,
   "metadata": {
    "collapsed": false
   },
   "outputs": [],
   "source": [
    "alg = RandomForestRegressor(n_estimators=200, max_depth = 22, min_samples_split = 18, n_jobs=-1)\n",
    "crossVal(alg, X, ['Latitude','Longitude','DRG Code'],cv=5)"
   ]
  },
  {
   "cell_type": "markdown",
   "metadata": {},
   "source": [
    "## Conclusion"
   ]
  },
  {
   "cell_type": "markdown",
   "metadata": {},
   "source": [
    "Our model performed better than the grouped baseline but not as well as we hoped. We hypothesize that the reason our error remians high is because the wage index medicare use to calculate payment is only influenced a samll amount by geography. It's possible that this model could be improved by factoring in information from another source about the area around a given hospital. "
   ]
  }
 ],
 "metadata": {
  "kernelspec": {
   "display_name": "Python 2",
   "language": "python",
   "name": "python2"
  },
  "language_info": {
   "codemirror_mode": {
    "name": "ipython",
    "version": 2
   },
   "file_extension": ".py",
   "mimetype": "text/x-python",
   "name": "python",
   "nbconvert_exporter": "python",
   "pygments_lexer": "ipython2",
   "version": "2.7.11"
  }
 },
 "nbformat": 4,
 "nbformat_minor": 0
}
