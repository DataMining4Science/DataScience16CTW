{
 "cells": [
  {
   "cell_type": "code",
   "execution_count": null,
   "metadata": {
    "collapsed": false
   },
   "outputs": [],
   "source": [
    "import loadAndClean\n",
    "import numpy as np\n",
    "from sklearn.ensemble import RandomForestRegressor\n",
    "from sklearn import cross_validation\n",
    "from sklearn.metrics import mean_squared_error\n",
    "import xgboost as xgb"
   ]
  },
  {
   "cell_type": "code",
   "execution_count": null,
   "metadata": {
    "collapsed": false,
    "scrolled": false
   },
   "outputs": [],
   "source": [
    "X = loadAndClean.loadAndClean()"
   ]
  },
  {
   "cell_type": "code",
   "execution_count": null,
   "metadata": {
    "collapsed": false
   },
   "outputs": [],
   "source": [
    "y = X['Average Medicare Payments Num']\n",
    "\n",
    "X_train, X_test, y_train, y_test = cross_validation.train_test_split(X, y, test_size=0.5, stratify=np.array(X['DRG Code']))"
   ]
  },
  {
   "cell_type": "code",
   "execution_count": null,
   "metadata": {
    "collapsed": true
   },
   "outputs": [],
   "source": [
    "def crossVal(clf, X, y, cv=3):\n",
    "    scores = []\n",
    "    for i in range(cv):\n",
    "        X_train, X_test, y_train, y_test = cross_validation.train_test_split(X, y, test_size=0.5, stratify=np.array(X['DRG Code']))\n",
    "        clf.fit(X_train, y_train)\n",
    "        predictions = clf.predict(X_test)\n",
    "        scores.append(mean_squared_error(y_test, predictions))\n",
    "        print scores[i]\n",
    "    print \"Average MSE: \", np.mean(scores)"
   ]
  },
  {
   "cell_type": "code",
   "execution_count": null,
   "metadata": {
    "collapsed": false
   },
   "outputs": [],
   "source": [
    "class baseline(object):\n",
    "    def __init__(self):\n",
    "        self.has_fit = False\n",
    "        \n",
    "    def fit(self, X_train, y_train):\n",
    "        self.average_value = y_train.mean()\n",
    "        self.has_fit = True\n",
    "\n",
    "    def predict(self, X_test):\n",
    "        if self.has_fit:\n",
    "            return np.ones((len(X_test),)) * self.average_value\n",
    "        return None\n",
    "\n",
    "alg = baseline()\n",
    "alg.fit(X_train, y_train)\n",
    "predictions = alg.predict(X_test)\n",
    "mean_squared_error(y_test, predictions)"
   ]
  },
  {
   "cell_type": "code",
   "execution_count": null,
   "metadata": {
    "collapsed": false
   },
   "outputs": [],
   "source": [
    "class grouped_baseline(object):\n",
    "    def __init__(self):\n",
    "        self.has_fit = False\n",
    "\n",
    "    def fit(self, X_train, y_train):\n",
    "        X_train = X_train.copy()\n",
    "        X_train['Cost'] = y_train\n",
    "        groups = X_train.groupby(['DRG Code'])\n",
    "\n",
    "        # Average the cost for each DRG\n",
    "        self.drg_costs = {}\n",
    "        for ind,data in groups:\n",
    "            self.drg_costs[ind] = data['Cost'].mean()\n",
    "\n",
    "        self.has_fit = True\n",
    "\n",
    "    def predict(self, X_test):\n",
    "        if self.has_fit:\n",
    "            return X_test['DRG Code'].apply(lambda x: self.drg_costs[x])\n",
    "        return None\n",
    "\n",
    "alg = grouped_baseline()\n",
    "alg.fit(X_train, y_train)\n",
    "predictions = alg.predict(X_test)\n",
    "mean_squared_error(y_test, predictions)"
   ]
  },
  {
   "cell_type": "code",
   "execution_count": null,
   "metadata": {
    "collapsed": false,
    "scrolled": true
   },
   "outputs": [],
   "source": [
    "predictors = ['Latitude','Longitude','DRG Code']\n",
    "alg = RandomForestRegressor(n_estimators=50, n_jobs=4, verbose=3)\n",
    "alg.fit(X_train[predictors], y_train)\n",
    "predictions = alg.predict(X_test[predictors])\n",
    "mean_squared_error(y_test, predictions)"
   ]
  },
  {
   "cell_type": "markdown",
   "metadata": {
    "collapsed": true
   },
   "source": [
    "| Model    | MSE\n",
    "| :---     | --:\n",
    "|baseline  | 56,454,378.43\n",
    "|grouped_bl| 8,402,783.52\n",
    "|RFR       | 5,250,844.69"
   ]
  },
  {
   "cell_type": "code",
   "execution_count": null,
   "metadata": {
    "collapsed": false
   },
   "outputs": [],
   "source": [
    "predictors = ['Latitude','Longitude','DRG Code']\n",
    "\n",
    "alg.fit(X_train[predictors], y_train)\n",
    "predictions = alg.predict(X_test[predictors])\n",
    "mean_squared_error(y_test, predictions)"
   ]
  },
  {
   "cell_type": "code",
   "execution_count": null,
   "metadata": {
    "collapsed": false
   },
   "outputs": [],
   "source": [
    "predictors = ['Latitude','Longitude','DRG Code']\n",
    "alg = xgb.XGBRegressor(n_estimators=5000)\n",
    "crossVal(alg,X[predictors], X['Average Medicare Payments Num'])"
   ]
  },
  {
   "cell_type": "code",
   "execution_count": null,
   "metadata": {
    "collapsed": true
   },
   "outputs": [],
   "source": []
  },
  {
   "cell_type": "code",
   "execution_count": null,
   "metadata": {
    "collapsed": true
   },
   "outputs": [],
   "source": []
  }
 ],
 "metadata": {
  "kernelspec": {
   "display_name": "Python 2",
   "language": "python",
   "name": "python2"
  },
  "language_info": {
   "codemirror_mode": {
    "name": "ipython",
    "version": 2
   },
   "file_extension": ".py",
   "mimetype": "text/x-python",
   "name": "python",
   "nbconvert_exporter": "python",
   "pygments_lexer": "ipython2",
   "version": "2.7.11"
  }
 },
 "nbformat": 4,
 "nbformat_minor": 0
}
