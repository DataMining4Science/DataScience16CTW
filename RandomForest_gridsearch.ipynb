{
 "cells": [
  {
   "cell_type": "markdown",
   "metadata": {},
   "source": [
    "In this notebook, we will be running a parameter sweep for the Random Forest model."
   ]
  },
  {
   "cell_type": "markdown",
   "metadata": {},
   "source": [
    "## Style Fix"
   ]
  },
  {
   "cell_type": "code",
   "execution_count": 1,
   "metadata": {
    "collapsed": false
   },
   "outputs": [
    {
     "data": {
      "text/html": [
       "<style>\n",
       "table {float:left}\n",
       "</style>"
      ],
      "text/plain": [
       "<IPython.core.display.HTML object>"
      ]
     },
     "metadata": {},
     "output_type": "display_data"
    }
   ],
   "source": [
    "%%html\n",
    "<style>\n",
    "table {float:left}\n",
    "</style>"
   ]
  },
  {
   "cell_type": "markdown",
   "metadata": {},
   "source": [
    "## Imports"
   ]
  },
  {
   "cell_type": "code",
   "execution_count": 2,
   "metadata": {
    "collapsed": false
   },
   "outputs": [],
   "source": [
    "import loadAndClean\n",
    "import random\n",
    "import numpy as np\n",
    "from sklearn.metrics import mean_squared_error\n",
    "from sklearn.ensemble import RandomForestRegressor"
   ]
  },
  {
   "cell_type": "markdown",
   "metadata": {},
   "source": [
    "## Load Data"
   ]
  },
  {
   "cell_type": "code",
   "execution_count": 3,
   "metadata": {
    "collapsed": false
   },
   "outputs": [
    {
     "data": {
      "text/html": [
       "<div>\n",
       "<table border=\"1\" class=\"dataframe\">\n",
       "  <thead>\n",
       "    <tr style=\"text-align: right;\">\n",
       "      <th></th>\n",
       "      <th>DRG Definition</th>\n",
       "      <th>Provider Id</th>\n",
       "      <th>Provider Name</th>\n",
       "      <th>Provider Street Address</th>\n",
       "      <th>Provider City</th>\n",
       "      <th>Provider State</th>\n",
       "      <th>Provider Zip Code</th>\n",
       "      <th>Provider HRR</th>\n",
       "      <th>Total Discharges</th>\n",
       "      <th>Average Covered Charges</th>\n",
       "      <th>Average Total Payments</th>\n",
       "      <th>Average Medicare Payments</th>\n",
       "      <th>Average Covered Charges Num</th>\n",
       "      <th>Average Total Payments Num</th>\n",
       "      <th>Average Medicare Payments Num</th>\n",
       "      <th>DRG Code</th>\n",
       "      <th>Provider HRR Num</th>\n",
       "      <th>Latitude</th>\n",
       "      <th>Longitude</th>\n",
       "    </tr>\n",
       "  </thead>\n",
       "  <tbody>\n",
       "    <tr>\n",
       "      <th>0</th>\n",
       "      <td>039 - EXTRACRANIAL PROCEDURES W/O CC/MCC</td>\n",
       "      <td>10001</td>\n",
       "      <td>SOUTHEAST ALABAMA MEDICAL CENTER</td>\n",
       "      <td>1108 ROSS CLARK CIRCLE</td>\n",
       "      <td>DOTHAN</td>\n",
       "      <td>AL</td>\n",
       "      <td>36301</td>\n",
       "      <td>AL - Dothan</td>\n",
       "      <td>98</td>\n",
       "      <td>$37988.98</td>\n",
       "      <td>$5872.19</td>\n",
       "      <td>$4838.32</td>\n",
       "      <td>37988.98</td>\n",
       "      <td>5872.19</td>\n",
       "      <td>4838.32</td>\n",
       "      <td>39</td>\n",
       "      <td>2</td>\n",
       "      <td>31.216725</td>\n",
       "      <td>-85.363068</td>\n",
       "    </tr>\n",
       "    <tr>\n",
       "      <th>1</th>\n",
       "      <td>039 - EXTRACRANIAL PROCEDURES W/O CC/MCC</td>\n",
       "      <td>10005</td>\n",
       "      <td>MARSHALL MEDICAL CENTER SOUTH</td>\n",
       "      <td>2505 U S HIGHWAY 431 NORTH</td>\n",
       "      <td>BOAZ</td>\n",
       "      <td>AL</td>\n",
       "      <td>35957</td>\n",
       "      <td>AL - Birmingham</td>\n",
       "      <td>34</td>\n",
       "      <td>$15554.88</td>\n",
       "      <td>$6053.29</td>\n",
       "      <td>$5255.65</td>\n",
       "      <td>15554.88</td>\n",
       "      <td>6053.29</td>\n",
       "      <td>5255.65</td>\n",
       "      <td>39</td>\n",
       "      <td>1</td>\n",
       "      <td>34.204811</td>\n",
       "      <td>-86.101860</td>\n",
       "    </tr>\n",
       "    <tr>\n",
       "      <th>2</th>\n",
       "      <td>039 - EXTRACRANIAL PROCEDURES W/O CC/MCC</td>\n",
       "      <td>10006</td>\n",
       "      <td>ELIZA COFFEE MEMORIAL HOSPITAL</td>\n",
       "      <td>205 MARENGO STREET</td>\n",
       "      <td>FLORENCE</td>\n",
       "      <td>AL</td>\n",
       "      <td>35631</td>\n",
       "      <td>AL - Birmingham</td>\n",
       "      <td>30</td>\n",
       "      <td>$40380.10</td>\n",
       "      <td>$5319.83</td>\n",
       "      <td>$4150.87</td>\n",
       "      <td>40380.10</td>\n",
       "      <td>5319.83</td>\n",
       "      <td>4150.87</td>\n",
       "      <td>39</td>\n",
       "      <td>1</td>\n",
       "      <td>34.793845</td>\n",
       "      <td>-87.683155</td>\n",
       "    </tr>\n",
       "  </tbody>\n",
       "</table>\n",
       "</div>"
      ],
      "text/plain": [
       "                             DRG Definition  Provider Id  \\\n",
       "0  039 - EXTRACRANIAL PROCEDURES W/O CC/MCC        10001   \n",
       "1  039 - EXTRACRANIAL PROCEDURES W/O CC/MCC        10005   \n",
       "2  039 - EXTRACRANIAL PROCEDURES W/O CC/MCC        10006   \n",
       "\n",
       "                      Provider Name     Provider Street Address Provider City  \\\n",
       "0  SOUTHEAST ALABAMA MEDICAL CENTER      1108 ROSS CLARK CIRCLE        DOTHAN   \n",
       "1     MARSHALL MEDICAL CENTER SOUTH  2505 U S HIGHWAY 431 NORTH          BOAZ   \n",
       "2    ELIZA COFFEE MEMORIAL HOSPITAL          205 MARENGO STREET      FLORENCE   \n",
       "\n",
       "  Provider State  Provider Zip Code     Provider HRR  Total Discharges  \\\n",
       "0             AL              36301      AL - Dothan                98   \n",
       "1             AL              35957  AL - Birmingham                34   \n",
       "2             AL              35631  AL - Birmingham                30   \n",
       "\n",
       "  Average Covered Charges Average Total Payments Average Medicare Payments  \\\n",
       "0               $37988.98               $5872.19                  $4838.32   \n",
       "1               $15554.88               $6053.29                  $5255.65   \n",
       "2               $40380.10               $5319.83                  $4150.87   \n",
       "\n",
       "   Average Covered Charges Num  Average Total Payments Num  \\\n",
       "0                     37988.98                     5872.19   \n",
       "1                     15554.88                     6053.29   \n",
       "2                     40380.10                     5319.83   \n",
       "\n",
       "   Average Medicare Payments Num  DRG Code  Provider HRR Num   Latitude  \\\n",
       "0                        4838.32        39                 2  31.216725   \n",
       "1                        5255.65        39                 1  34.204811   \n",
       "2                        4150.87        39                 1  34.793845   \n",
       "\n",
       "   Longitude  \n",
       "0 -85.363068  \n",
       "1 -86.101860  \n",
       "2 -87.683155  "
      ]
     },
     "execution_count": 3,
     "metadata": {},
     "output_type": "execute_result"
    }
   ],
   "source": [
    "X = loadAndClean.loadAndClean()\n",
    "X.head(3)"
   ]
  },
  {
   "cell_type": "markdown",
   "metadata": {},
   "source": [
    "## Cross Val function"
   ]
  },
  {
   "cell_type": "markdown",
   "metadata": {},
   "source": [
    "This function will cross vailidate the model and return the average RMSE. It splits the data by hospital so as to ensure that the model isn't baised based on the other procedures a hospital performs."
   ]
  },
  {
   "cell_type": "code",
   "execution_count": 4,
   "metadata": {
    "collapsed": true
   },
   "outputs": [],
   "source": [
    "def crossVal(clf, X, predictors, cv=3):\n",
    "    random.seed(6)\n",
    "    scores = []\n",
    "    for i in range(cv):\n",
    "        while True:\n",
    "            testIds = random.sample(X['Provider Id'].unique(),500)\n",
    "            testData = X[X['Provider Id'].isin(testIds)]\n",
    "            trainData = X[~X['Provider Id'].isin(testIds)]\n",
    "            if len(testData['DRG Code'].unique()) == len(X['DRG Code'].unique()) and len(trainData['DRG Code'].unique()) == len(X['DRG Code'].unique()):\n",
    "                break\n",
    "        X_train = trainData[predictors]\n",
    "        y_train = trainData['Average Medicare Payments Num']\n",
    "        X_test = testData[predictors]\n",
    "        y_test = testData['Average Medicare Payments Num']\n",
    "        clf.fit(X_train, y_train)\n",
    "        predictions = clf.predict(X_test)\n",
    "        scores.append(mean_squared_error(y_test, predictions)**0.5)\n",
    "\n",
    "    return np.mean(scores)"
   ]
  },
  {
   "cell_type": "markdown",
   "metadata": {},
   "source": [
    "## Grid Search"
   ]
  },
  {
   "cell_type": "markdown",
   "metadata": {},
   "source": [
    "This function accepts a list of n_estimators, max_depths, min_samples_splits and oob_scores. It then performs a grid search over all permutations. At the end it prints a table showing the results"
   ]
  },
  {
   "cell_type": "code",
   "execution_count": 5,
   "metadata": {
    "collapsed": false
   },
   "outputs": [],
   "source": [
    "def gridsearch(X, n_estimators, max_depths, min_samples_splits, oob_scores):\n",
    "    predictors = ['Latitude','Longitude','DRG Code']\n",
    "    best = [None, None, None, None,np.inf]\n",
    "    line_str = '|  {: <8}  |  {: <3} |  {: <3} |  {: <3}  |  {}'\n",
    "    print line_str.format('n_estimators', 'max_depth','min_samples_split','oob_score', 'RMSE')\n",
    "    print line_str.format(':--', ':--', ':--',':--',':--')\n",
    "    for n_estimator in n_estimators:\n",
    "        for max_depth in max_depths:\n",
    "            for min_samples_split in min_samples_splits:\n",
    "                for oob_score in oob_scores:\n",
    "                    alg =  RandomForestRegressor(n_estimators=n_estimator,max_depth = max_depth, \n",
    "                                                 min_samples_split =  min_samples_split, oob_score= oob_score, n_jobs=8)\n",
    "                    score = crossVal(alg, X, predictors, cv=10)\n",
    "                    if score < best[4]:\n",
    "                        best = [n_estimator, max_depth, min_samples_split,oob_score, score]\n",
    "                    print line_str.format(n_estimator, max_depth, min_samples_split,oob_score, score)\n",
    "\n",
    "    print '\\nBest:'\n",
    "    print '{: <10} {: <5} {: <5} {: <5} ${:,.2f}'.format(*best)"
   ]
  },
  {
   "cell_type": "markdown",
   "metadata": {},
   "source": [
    "First attempt grid search. The idea is be broad and then narrow in future searchs"
   ]
  },
  {
   "cell_type": "code",
   "execution_count": null,
   "metadata": {
    "collapsed": false
   },
   "outputs": [],
   "source": [
    "n_estimators = [1, 10, 100, 500 ,1000]\n",
    "max_depth = [1,2,4,8,16]\n",
    "min_samples_split = [2,4,8,16]\n",
    "oob_score = [True,False]\n",
    "gridsearch(X, n_estimators, max_depth, min_samples_split, oob_score)"
   ]
  },
  {
   "cell_type": "markdown",
   "metadata": {},
   "source": [
    "|  n_estimators  |  max_depth |  min_samples_split |  oob_score  |  RMSE\n",
    "|  :--       |  :-- |  :-- |  :--  |  :--\n",
    "|  1         |  1   |  2   |  1    |  7294.56778695\n",
    "|  1         |  1   |  2   |  0    |  7294.73058545\n",
    "|  1         |  1   |  4   |  1    |  7294.86541043\n",
    "|  1         |  1   |  4   |  0    |  7295.14352671\n",
    "|  1         |  1   |  8   |  1    |  7294.63353342\n",
    "|  1         |  1   |  8   |  0    |  7294.7928194\n",
    "|  1         |  1   |  16  |  1    |  7295.03235718\n",
    "|  1         |  1   |  16  |  0    |  7294.75787242\n",
    "|  1         |  2   |  2   |  1    |  6190.92170565\n",
    "|  1         |  2   |  2   |  0    |  6190.87618149\n",
    "|  1         |  2   |  4   |  1    |  6190.97712762\n",
    "|  1         |  2   |  4   |  0    |  6190.85946699\n",
    "|  1         |  2   |  8   |  1    |  6190.79227032\n",
    "|  1         |  2   |  8   |  0    |  6190.9079704\n",
    "|  1         |  2   |  16  |  1    |  6190.76542442\n",
    "|  1         |  2   |  16  |  0    |  6190.7208444\n",
    "|  1         |  4   |  2   |  1    |  5606.31133987\n",
    "|  1         |  4   |  2   |  0    |  5601.89114103\n",
    "|  1         |  4   |  4   |  1    |  5606.44176277\n",
    "|  1         |  4   |  4   |  0    |  5608.20052036\n",
    "|  1         |  4   |  8   |  1    |  5604.92284085\n",
    "|  1         |  4   |  8   |  0    |  5605.6372499\n",
    "|  1         |  4   |  16  |  1    |  5601.5562951\n",
    "|  1         |  4   |  16  |  0    |  5606.07113797\n",
    "|  1         |  8   |  2   |  1    |  3282.93749047\n",
    "|  1         |  8   |  2   |  0    |  3273.44465419\n",
    "|  1         |  8   |  4   |  1    |  3251.7401755\n",
    "|  1         |  8   |  4   |  0    |  3312.60152948\n",
    "|  1         |  8   |  8   |  1    |  3260.87044697\n",
    "|  1         |  8   |  8   |  0    |  3291.37408416\n",
    "|  1         |  8   |  16  |  1    |  3245.08230924\n",
    "|  1         |  8   |  16  |  0    |  3242.38554034\n",
    "|  1         |  16  |  2   |  1    |  2790.49283356\n",
    "|  1         |  16  |  2   |  0    |  2756.0425743\n",
    "|  1         |  16  |  4   |  1    |  2691.22157796\n",
    "|  1         |  16  |  4   |  0    |  2658.17920559\n",
    "|  1         |  16  |  8   |  1    |  2601.40401238\n",
    "|  1         |  16  |  8   |  0    |  2597.23291154\n",
    "|  1         |  16  |  16  |  1    |  2535.1921768\n",
    "|  1         |  16  |  16  |  0    |  2509.91701011\n",
    "|  10        |  1   |  2   |  1    |  7294.65265625\n",
    "|  10        |  1   |  2   |  0    |  7294.55624734\n",
    "|  10        |  1   |  4   |  1    |  7294.69562062\n",
    "|  10        |  1   |  4   |  0    |  7294.64325994\n",
    "|  10        |  1   |  8   |  1    |  7294.77125405\n",
    "|  10        |  1   |  8   |  0    |  7294.57196966\n",
    "|  10        |  1   |  16  |  1    |  7294.72286418\n",
    "|  10        |  1   |  16  |  0    |  7294.65886418\n",
    "|  10        |  2   |  2   |  1    |  6190.78543195\n",
    "|  10        |  2   |  2   |  0    |  6190.782628\n",
    "|  10        |  2   |  4   |  1    |  6190.7257814\n",
    "|  10        |  2   |  4   |  0    |  6190.74201157\n",
    "|  10        |  2   |  8   |  1    |  6190.78824212\n",
    "|  10        |  2   |  8   |  0    |  6190.85155055\n",
    "|  10        |  2   |  16  |  1    |  6190.74799024\n",
    "|  10        |  2   |  16  |  0    |  6190.69197777\n",
    "|  10        |  4   |  2   |  1    |  5592.96591593\n",
    "|  10        |  4   |  2   |  0    |  5593.89623497\n",
    "|  10        |  4   |  4   |  1    |  5595.36027626\n",
    "|  10        |  4   |  4   |  0    |  5592.93708067\n",
    "|  10        |  4   |  8   |  1    |  5593.32964418\n",
    "|  10        |  4   |  8   |  0    |  5595.17531325\n",
    "|  10        |  4   |  16  |  1    |  5594.81760658\n",
    "|  10        |  4   |  16  |  0    |  5593.52094389\n",
    "|  10        |  8   |  2   |  1    |  3163.7239878\n",
    "|  10        |  8   |  2   |  0    |  3164.94729475\n",
    "|  10        |  8   |  4   |  1    |  3170.03609828\n",
    "|  10        |  8   |  4   |  0    |  3170.50626428\n",
    "|  10        |  8   |  8   |  1    |  3173.54289922\n",
    "|  10        |  8   |  8   |  0    |  3165.94260991\n",
    "|  10        |  8   |  16  |  1    |  3170.1655599\n",
    "|  10        |  8   |  16  |  0    |  3171.16585507\n",
    "|  10        |  16  |  2   |  1    |  2283.31608229\n",
    "|  10        |  16  |  2   |  0    |  2279.88443774\n",
    "|  10        |  16  |  4   |  1    |  2256.32724671\n",
    "|  10        |  16  |  4   |  0    |  2265.03290135\n",
    "|  10        |  16  |  8   |  1    |  2240.54731069\n",
    "|  10        |  16  |  8   |  0    |  2238.33601377\n",
    "|  10        |  16  |  16  |  1    |  2222.99777649\n",
    "|  10        |  16  |  16  |  0    |  2218.47085095\n",
    "|  100       |  1   |  2   |  1    |  7294.63844841\n",
    "|  100       |  1   |  2   |  0    |  7294.61115494\n",
    "|  100       |  1   |  4   |  1    |  7294.63625999\n",
    "|  100       |  1   |  4   |  0    |  7294.63641801\n",
    "|  100       |  1   |  8   |  1    |  7294.61474149\n",
    "|  100       |  1   |  8   |  0    |  7294.64691208\n",
    "|  100       |  1   |  16  |  1    |  7294.65694572\n",
    "|  100       |  1   |  16  |  0    |  7294.65927976\n",
    "|  100       |  2   |  2   |  1    |  6190.81224069\n",
    "|  100       |  2   |  2   |  0    |  6190.79557814\n",
    "|  100       |  2   |  4   |  1    |  6190.79120535\n",
    "|  100       |  2   |  4   |  0    |  6190.77996469\n",
    "|  100       |  2   |  8   |  1    |  6190.74304852\n",
    "|  100       |  2   |  8   |  0    |  6190.78378329\n",
    "|  100       |  2   |  16  |  1    |  6190.78243485\n",
    "|  100       |  2   |  16  |  0    |  6190.78039536\n",
    "|  100       |  4   |  2   |  1    |  5594.90167058\n",
    "|  100       |  4   |  2   |  0    |  5594.95014267\n",
    "|  100       |  4   |  4   |  1    |  5594.4945627\n",
    "|  100       |  4   |  4   |  0    |  5594.64089818\n",
    "|  100       |  4   |  8   |  1    |  5594.42159931\n",
    "|  100       |  4   |  8   |  0    |  5593.33782348\n",
    "|  100       |  4   |  16  |  1    |  5593.87579515\n",
    "|  100       |  4   |  16  |  0    |  5594.39863314\n",
    "|  100       |  8   |  2   |  1    |  3159.36774604\n",
    "|  100       |  8   |  2   |  0    |  3156.57289953\n",
    "|  100       |  8   |  4   |  1    |  3158.03719858\n",
    "|  100       |  8   |  4   |  0    |  3157.91614073\n",
    "|  100       |  8   |  8   |  1    |  3157.08294284\n",
    "|  100       |  8   |  8   |  0    |  3156.93468049\n",
    "|  100       |  8   |  16  |  1    |  3157.99381201\n",
    "|  100       |  8   |  16  |  0    |  3157.91088713\n",
    "|  100       |  16  |  2   |  1    |  2226.09632067\n",
    "|  100       |  16  |  2   |  0    |  2228.92880751\n",
    "|  100       |  16  |  4   |  1    |  2214.41074009\n",
    "|  100       |  16  |  4   |  0    |  2217.24925072\n",
    "|  100       |  16  |  8   |  1    |  2199.05411541\n",
    "|  100       |  16  |  8   |  0    |  2198.96254753\n",
    "|  100       |  16  |  16  |  1    |  2189.5611402\n",
    "|  100       |  16  |  16  |  0    |  2187.90212768\n",
    "|  500       |  1   |  2   |  1    |  7294.64436675\n",
    "|  500       |  1   |  2   |  0    |  7294.64063436\n",
    "|  500       |  1   |  4   |  1    |  7294.6495678\n",
    "|  500       |  1   |  4   |  0    |  7294.64525889\n",
    "|  500       |  1   |  8   |  1    |  7294.6542858\n",
    "|  500       |  1   |  8   |  0    |  7294.64919733\n",
    "|  500       |  1   |  16  |  1    |  7294.65967917\n",
    "|  500       |  1   |  16  |  0    |  7294.65388828\n",
    "|  500       |  2   |  2   |  1    |  6190.77588032\n",
    "|  500       |  2   |  2   |  0    |  6190.78875008\n",
    "|  500       |  2   |  4   |  1    |  6190.77282069\n",
    "|  500       |  2   |  4   |  0    |  6190.7764489\n",
    "|  500       |  2   |  8   |  1    |  6190.78083427\n",
    "|  500       |  2   |  8   |  0    |  6190.77588129\n",
    "|  500       |  2   |  16  |  1    |  6190.76962268\n",
    "|  500       |  2   |  16  |  0    |  6190.77193907\n",
    "|  500       |  4   |  2   |  1    |  5594.188916\n",
    "|  500       |  4   |  2   |  0    |  5594.1296475\n",
    "|  500       |  4   |  4   |  1    |  5594.04666772\n",
    "|  500       |  4   |  4   |  0    |  5594.13013365\n",
    "|  500       |  4   |  8   |  1    |  5594.35602772\n",
    "|  500       |  4   |  8   |  0    |  5594.41370767\n",
    "|  500       |  4   |  16  |  1    |  5594.20155607\n",
    "|  500       |  4   |  16  |  0    |  5594.10547991\n",
    "|  500       |  8   |  2   |  1    |  3156.62691792\n",
    "|  500       |  8   |  2   |  0    |  3157.58600206\n",
    "|  500       |  8   |  4   |  1    |  3156.91971656\n",
    "|  500       |  8   |  4   |  0    |  3157.07963417\n",
    "|  500       |  8   |  8   |  1    |  3156.42383713\n",
    "|  500       |  8   |  8   |  0    |  3157.34230044\n",
    "|  500       |  8   |  16  |  1    |  3157.69680592\n",
    "|  500       |  8   |  16  |  0    |  3157.33301579\n",
    "|  500       |  16  |  2   |  1    |  2221.35552225\n",
    "|  500       |  16  |  2   |  0    |  2223.12087011\n",
    "|  500       |  16  |  4   |  1    |  2211.52226456\n",
    "|  500       |  16  |  4   |  0    |  2211.36843591\n",
    "|  500       |  16  |  8   |  1    |  2193.54280827\n",
    "|  500       |  16  |  8   |  0    |  2194.41371636\n",
    "|  500       |  16  |  16  |  1    |  2186.1105328\n",
    "|  500       |  16  |  16  |  0    |  2185.45704271"
   ]
  },
  {
   "cell_type": "markdown",
   "metadata": {},
   "source": [
    "In our broad search we noticed that there was very little difference between 100 and 500 esimators (on average a RMSE differnce of $2). Moving forward we decided to stick with a slightly lower number of trees (100 or 200) for performance reasons. We also noticed that high min_sample_split values produced better results (we'll investigate further soon). Similarly a higher max_depth produced better results. oob_score had almost no effect."
   ]
  },
  {
   "cell_type": "markdown",
   "metadata": {},
   "source": []
  },
  {
   "cell_type": "code",
   "execution_count": null,
   "metadata": {
    "collapsed": false
   },
   "outputs": [],
   "source": [
    "n_estimators = [100, 200]\n",
    "max_depth = [16,24,32,64,128]\n",
    "min_samples_split = [16,32]\n",
    "oob_score = [False]\n",
    "gridsearch(X, n_estimators, max_depth, min_samples_split, oob_score)"
   ]
  },
  {
   "cell_type": "markdown",
   "metadata": {},
   "source": [
    "\n",
    "|  n_estimators  |  max_depth |  min_samples_split |  oob_score  |  RMSE\n",
    "|  :--       |  :-- |  :-- |  :--  |  :--\n",
    "|  100       |  16  |  16  |  0    |  2191.59840446\n",
    "|  100       |  16  |  32  |  0    |  2202.13914397\n",
    "|  100       |  24  |  16  |  0    |  2180.34652932\n",
    "|  100       |  24  |  32  |  0    |  2194.07113896\n",
    "|  100       |  32  |  16  |  0    |  2181.9755508\n",
    "|  100       |  32  |  32  |  0    |  2193.01493908\n",
    "|  100       |  64  |  16  |  0    |  2180.96588913\n",
    "|  100       |  64  |  32  |  0    |  2191.5557443\n",
    "|  100       |  128 |  16  |  0    |  2182.31301262\n",
    "|  100       |  128 |  32  |  0    |  2193.89428541\n",
    "|  200       |  16  |  16  |  0    |  2185.9926411\n",
    "|  200       |  16  |  32  |  0    |  2202.41665627\n",
    "|  200       |  24  |  16  |  0    |  2176.74482435\n",
    "|  200       |  24  |  32  |  0    |  2193.14700294\n",
    "|  200       |  32  |  16  |  0    |  2179.98323207\n",
    "|  200       |  32  |  32  |  0    |  2191.45995399\n",
    "|  200       |  64  |  16  |  0    |  2178.52994012"
   ]
  },
  {
   "cell_type": "markdown",
   "metadata": {},
   "source": [
    "Now let's explore what happens when we don't set a max depth limit"
   ]
  },
  {
   "cell_type": "code",
   "execution_count": null,
   "metadata": {
    "collapsed": false
   },
   "outputs": [],
   "source": [
    "n_estimators = [200]\n",
    "max_depth = [None]\n",
    "min_samples_split = [8,12,16]\n",
    "oob_score = [False]\n",
    "gridsearch(X, n_estimators, max_depth, min_samples_split, oob_score)"
   ]
  },
  {
   "cell_type": "markdown",
   "metadata": {},
   "source": [
    "\n",
    "|  n_estimators  |  max_depth |  min_samples_split |  oob_score  |  RMSE\n",
    "|  :--       |  :-- |  :-- |  :--  |  :--\n",
    "|  200       |  None |  8   |  0    |  2195.51468835\n",
    "|  200       |  None |  12  |  0    |  2181.57165245\n",
    "|  200       |  None |  16  |  0    |  2180.11692899"
   ]
  },
  {
   "cell_type": "markdown",
   "metadata": {},
   "source": [
    "We didn't see a huge change when compared to setting the max depth to a limit. However, the model did perform slightly worse. For example with 200 estimators a max_depth of 24 and min_sample_split of 16 the Random Forest regression had a mean squared error of ~\\$2176. With the same parameters and no max_depth the model had a RMSE of ~\\$2180."
   ]
  },
  {
   "cell_type": "code",
   "execution_count": null,
   "metadata": {
    "collapsed": false
   },
   "outputs": [],
   "source": [
    "n_estimators = [200]\n",
    "max_depth = [20,22,24,26,28]\n",
    "min_samples_split = [14,16,18]\n",
    "oob_score = [False]\n",
    "gridsearch(X, n_estimators, max_depth, min_samples_split, oob_score)"
   ]
  },
  {
   "cell_type": "markdown",
   "metadata": {},
   "source": [
    "\n",
    "|  n_estimators  |  max_depth |  min_samples_split |  oob_score  |  RMSE\n",
    "|  :--       |  :-- |  :-- |  :--  |  :--\n",
    "|  200       |  20  |  14  |  0    |  2175.91813626\n",
    "|  200       |  20  |  16  |  0    |  2176.18007223\n",
    "|  200       |  20  |  18  |  0    |  2175.82631433\n",
    "|  200       |  22  |  14  |  0    |  2176.20445214\n",
    "|  200       |  22  |  16  |  0    |  2176.81794258\n",
    "|  200       |  22  |  18  |  0    |  2174.96407534\n",
    "|  200       |  24  |  14  |  0    |  2178.19860334\n",
    "|  200       |  24  |  16  |  0    |  2177.83784662\n",
    "|  200       |  24  |  18  |  0    |  2177.06219171\n",
    "|  200       |  26  |  14  |  0    |  2180.00419949\n",
    "|  200       |  26  |  16  |  0    |  2178.07664792\n",
    "|  200       |  26  |  18  |  0    |  2178.74010201\n",
    "|  200       |  28  |  14  |  0    |  2180.01389183\n",
    "|  200       |  28  |  16  |  0    |  2177.03809102\n",
    "|  200       |  28  |  18  |  0    |  2177.8590263"
   ]
  },
  {
   "cell_type": "markdown",
   "metadata": {},
   "source": [
    "In the end the best combination of parameters we were able to produce was (n_estimators=200, max_depth=22, min_samples_split=18). The produced a RMSE of 2174.96407534"
   ]
  },
  {
   "cell_type": "code",
   "execution_count": null,
   "metadata": {
    "collapsed": true
   },
   "outputs": [],
   "source": []
  }
 ],
 "metadata": {
  "kernelspec": {
   "display_name": "Python 2",
   "language": "python",
   "name": "python2"
  },
  "language_info": {
   "codemirror_mode": {
    "name": "ipython",
    "version": 2
   },
   "file_extension": ".py",
   "mimetype": "text/x-python",
   "name": "python",
   "nbconvert_exporter": "python",
   "pygments_lexer": "ipython2",
   "version": "2.7.11"
  }
 },
 "nbformat": 4,
 "nbformat_minor": 0
}
