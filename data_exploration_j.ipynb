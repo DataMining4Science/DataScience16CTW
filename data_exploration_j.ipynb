{
 "cells": [
  {
   "cell_type": "markdown",
   "metadata": {},
   "source": [
    "In this notebook we will be exploring the IPPS dataset."
   ]
  },
  {
   "cell_type": "markdown",
   "metadata": {},
   "source": [
    "# Imports"
   ]
  },
  {
   "cell_type": "code",
   "execution_count": null,
   "metadata": {
    "collapsed": false
   },
   "outputs": [],
   "source": [
    "%matplotlib inline\n",
    "import pandas as pd\n",
    "import numpy as np\n",
    "import matplotlib.pyplot as plt\n",
    "import seaborn as sns"
   ]
  },
  {
   "cell_type": "code",
   "execution_count": null,
   "metadata": {
    "collapsed": false,
    "scrolled": false
   },
   "outputs": [],
   "source": [
    "data = pd.read_csv('IPPS_2013.csv')\n",
    "\n",
    "data.head()"
   ]
  },
  {
   "cell_type": "markdown",
   "metadata": {},
   "source": [
    "The data contains the DRG (diagnosis-related group) definition, information about the provider, the number of discharges for each DRG, and the average covered charges, total payments, and Medicare payments for each DRG for each provider."
   ]
  },
  {
   "cell_type": "markdown",
   "metadata": {},
   "source": [
    "Let's try grouping by DRG and looking at how much the charges and payments vary by provider.  We'll first need to convert the strings representing the dollar amounts into numbers."
   ]
  },
  {
   "cell_type": "code",
   "execution_count": null,
   "metadata": {
    "collapsed": false
   },
   "outputs": [],
   "source": [
    "def str_to_num(s):\n",
    "    \"\"\"\n",
    "    Return a float representing the dollar amount in string s\n",
    "    String s is of the form '$xxxx.xx'\n",
    "    \"\"\"\n",
    "    return float(s[1:])\n",
    "\n",
    "data['Average Covered Charges Num'] = data['Average Covered Charges'].apply(str_to_num)\n",
    "data['Average Total Payments Num'] = data['Average Total Payments'].apply(str_to_num)\n",
    "data['Average Medicare Payments Num'] = data['Average Medicare Payments'].apply(str_to_num)"
   ]
  },
  {
   "cell_type": "code",
   "execution_count": null,
   "metadata": {
    "collapsed": false,
    "scrolled": true
   },
   "outputs": [],
   "source": [
    "drgs = data.groupby('DRG Definition')\n",
    "cols = ['Average Covered Charges Num', 'Average Total Payments Num', 'Average Medicare Payments Num']\n",
    "\n",
    "n = 10  # Limit the number to show\n",
    "i = 1\n",
    "plt.figure(figsize=(20,60))\n",
    "for drg_name,drg in drgs:\n",
    "    for j,col in enumerate(cols):\n",
    "        plt.subplot(n, 3, i)\n",
    "        drg[col].hist(bins=25)\n",
    "        xmin, xmax = plt.xlim()\n",
    "        plt.xlim(0, xmax)\n",
    "        plt.xlabel('Amount ($)')\n",
    "        plt.ylabel('Count')\n",
    "        plt.legend([col])\n",
    "        if j == 1:\n",
    "            plt.title(drg_name)\n",
    "        i += 1\n",
    "    if i > n * len(cols):\n",
    "        break\n"
   ]
  },
  {
   "cell_type": "markdown",
   "metadata": {},
   "source": [
    "It looks like there's a common trend of the distributions being skewed to the right.  This makes sense to some extent because things cannot cost a negative amount of money.  It also appears that the covered charges are pretty significantly higher than the total payments or medicare payments."
   ]
  },
  {
   "cell_type": "markdown",
   "metadata": {},
   "source": [
    "We have geocoded the providers in the dataset and saved the data in another CSV file.  Let's load this and join it with our existing data to look at things as a function of latitude and longitude."
   ]
  },
  {
   "cell_type": "markdown",
   "metadata": {},
   "source": [
    "## Note:\n",
    "I'm in the process of geocoding everything; there are some rate limits preventing me from doing it all at once.  So, `provider_geocodes.csv` isn't complete yet.  Also, I'm not sure why the plots are so buggy."
   ]
  },
  {
   "cell_type": "code",
   "execution_count": null,
   "metadata": {
    "collapsed": false,
    "scrolled": true
   },
   "outputs": [],
   "source": [
    "geo_data = pd.read_csv('provider_geocodes.csv')\n",
    "data = data.merge(geo_data, how='left')\n",
    "\n",
    "data.head()"
   ]
  },
  {
   "cell_type": "code",
   "execution_count": null,
   "metadata": {
    "collapsed": false,
    "scrolled": true
   },
   "outputs": [],
   "source": [
    "drgs = data[data.Latitude.notnull()].groupby('DRG Definition')\n",
    "cols = ['Average Covered Charges Num', 'Average Total Payments Num', 'Average Medicare Payments Num']\n",
    "\n",
    "n = 10  # Limit the number to show\n",
    "i = 1\n",
    "plt.figure(figsize=(20,60))\n",
    "for drg_name,drg in drgs:\n",
    "    for j,col in enumerate(cols):\n",
    "        plt.subplot(n, 3, i)\n",
    "        drg[drg.Latitude.notnull()].plot(kind='scatter', x='Latitude', y='Longitude', c=col)\n",
    "        plt.xlabel('Latitude')\n",
    "        plt.ylabel('Longitude')\n",
    "        if j == 1:\n",
    "            plt.title(drg_name)\n",
    "        i += 1\n",
    "    if i > n * len(cols):\n",
    "        break"
   ]
  }
 ],
 "metadata": {
  "kernelspec": {
   "display_name": "Python 2",
   "language": "python",
   "name": "python2"
  },
  "language_info": {
   "codemirror_mode": {
    "name": "ipython",
    "version": 2
   },
   "file_extension": ".py",
   "mimetype": "text/x-python",
   "name": "python",
   "nbconvert_exporter": "python",
   "pygments_lexer": "ipython2",
   "version": "2.7.3"
  }
 },
 "nbformat": 4,
 "nbformat_minor": 0
}
