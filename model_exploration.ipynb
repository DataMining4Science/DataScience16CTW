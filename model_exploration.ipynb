{
 "cells": [
  {
   "cell_type": "code",
   "execution_count": null,
   "metadata": {
    "collapsed": false
   },
   "outputs": [],
   "source": [
    "import loadAndClean\n",
    "import numpy as np\n",
    "from sklearn.ensemble import RandomForestRegressor\n",
    "from sklearn import cross_validation"
   ]
  },
  {
   "cell_type": "code",
   "execution_count": null,
   "metadata": {
    "collapsed": false,
    "scrolled": true
   },
   "outputs": [],
   "source": [
    "data = loadAndClean.loadAndClean()\n",
    "data.describe()"
   ]
  },
  {
   "cell_type": "code",
   "execution_count": null,
   "metadata": {
    "collapsed": false
   },
   "outputs": [],
   "source": [
    "class baseline(object):\n",
    "    def __init__(self):\n",
    "        self.has_fit = False\n",
    "        \n",
    "    def fit(self, X_train, y_train, **kwargs):\n",
    "        self.average_value = y_train.mean()\n",
    "\n",
    "        self.has_fit = True\n",
    "\n",
    "    def predict(self, X_test):\n",
    "        if self.has_fit:\n",
    "            return np.ones((len(X_test),)) * self.average_value\n",
    "        return None\n",
    "    \n",
    "    def get_params(self, deep=False):\n",
    "        return {}\n",
    "\n",
    "alg = baseline()\n",
    "scores = cross_validation.cross_val_score(alg, data, data['Average Medicare Payments Num'], scoring='mean_squared_error' ,cv=3)\n",
    "print scores.mean()"
   ]
  },
  {
   "cell_type": "code",
   "execution_count": null,
   "metadata": {
    "collapsed": false
   },
   "outputs": [],
   "source": [
    "class grouped_baseline(object):\n",
    "    def __init__(self):\n",
    "        self.has_fit = False\n",
    "\n",
    "    def fit(self, X_train, y_train, **kwargs):\n",
    "        X_train = X_train.copy()\n",
    "        X_train['Cost'] = y_train\n",
    "        groups = X_train.groupby(['DRG Code'])\n",
    "\n",
    "        # Average the cost for each DRG\n",
    "        self.drg_costs = {}\n",
    "        for ind,data in groups:\n",
    "            self.drg_costs[ind] = data['Cost'].mean()\n",
    "\n",
    "        self.has_fit = True\n",
    "\n",
    "    def predict(self, X_test):\n",
    "        if self.has_fit:\n",
    "            return X_test['DRG Code'].apply(lambda x: self.drg_costs[x])\n",
    "        return None\n",
    "\n",
    "    def get_params(self, deep=False):\n",
    "        return {}\n",
    "\n",
    "alg = grouped_baseline()\n",
    "#### This won't run because cross_val_score doesn't seem to be stratifying like it says it should be\n",
    "scores = cross_validation.cross_val_score(alg, data, data['Average Medicare Payments Num'], scoring='mean_squared_error' ,cv=3)\n",
    "print scores.mean()"
   ]
  },
  {
   "cell_type": "code",
   "execution_count": null,
   "metadata": {
    "collapsed": false
   },
   "outputs": [],
   "source": [
    "clf = RandomForestRegressor(n_estimators=500, n_jobs=4, verbose=3)\n",
    "predictorsRan = ['Latitude','Longitude','DRG Code']\n",
    "scores = cross_validation.cross_val_score(clf, data[predictorsRan], data[\"Average Medicare Payments Num\"], scoring='mean_squared_error' ,cv=3)\n",
    "print scores.mean()"
   ]
  },
  {
   "cell_type": "markdown",
   "metadata": {
    "collapsed": true
   },
   "source": [
    "baseline:   -57116130.0673\n",
    "grouped_bl:\n",
    "RFR:        -70821199.9133"
   ]
  }
 ],
 "metadata": {
  "kernelspec": {
   "display_name": "Python 2",
   "language": "python",
   "name": "python2"
  },
  "language_info": {
   "codemirror_mode": {
    "name": "ipython",
    "version": 2
   },
   "file_extension": ".py",
   "mimetype": "text/x-python",
   "name": "python",
   "nbconvert_exporter": "python",
   "pygments_lexer": "ipython2",
   "version": "2.7.3"
  }
 },
 "nbformat": 4,
 "nbformat_minor": 0
}
