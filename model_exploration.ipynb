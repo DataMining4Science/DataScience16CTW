{
 "cells": [
  {
   "cell_type": "markdown",
   "metadata": {},
   "source": [
    "# Model Exploration\n",
    "\n",
    "In this notebook, we will be exploring various models and trying to predict cost based on location and type of procedure."
   ]
  },
  {
   "cell_type": "markdown",
   "metadata": {},
   "source": [
    "## Style Fix"
   ]
  },
  {
   "cell_type": "code",
   "execution_count": 1,
   "metadata": {
    "collapsed": false
   },
   "outputs": [
    {
     "data": {
      "text/html": [
       "<style>\n",
       "table {float:left}\n",
       "</style>"
      ],
      "text/plain": [
       "<IPython.core.display.HTML object>"
      ]
     },
     "metadata": {},
     "output_type": "display_data"
    }
   ],
   "source": [
    "%%html\n",
    "<style>\n",
    "table {float:left}\n",
    "</style>"
   ]
  },
  {
   "cell_type": "markdown",
   "metadata": {},
   "source": [
    "## Imports"
   ]
  },
  {
   "cell_type": "code",
   "execution_count": 2,
   "metadata": {
    "collapsed": false
   },
   "outputs": [],
   "source": [
    "import loadAndClean\n",
    "import numpy as np\n",
    "from sklearn.ensemble import RandomForestRegressor\n",
    "from sklearn.linear_model import LinearRegression\n",
    "from sklearn import cross_validation\n",
    "from sklearn.metrics import mean_squared_error\n",
    "import xgboost as xgb"
   ]
  },
  {
   "cell_type": "markdown",
   "metadata": {},
   "source": [
    "## Load Cleaned Data and Split for Cross Validation"
   ]
  },
  {
   "cell_type": "code",
   "execution_count": 3,
   "metadata": {
    "collapsed": false,
    "scrolled": false
   },
   "outputs": [],
   "source": [
    "X = loadAndClean.loadAndClean()\n",
    "X.describe()\n",
    "\n",
    "y = X['Average Medicare Payments Num']\n",
    "X_train, X_test, y_train, y_test = cross_validation.train_test_split(X, y, test_size=0.5, stratify=np.array(X['DRG Code']))"
   ]
  },
  {
   "cell_type": "markdown",
   "metadata": {},
   "source": [
    "## Baseline Models"
   ]
  },
  {
   "cell_type": "markdown",
   "metadata": {},
   "source": [
    "For our first baseline model, we will simply predict the average cost regardless of what the data is."
   ]
  },
  {
   "cell_type": "code",
   "execution_count": 4,
   "metadata": {
    "collapsed": true
   },
   "outputs": [],
   "source": [
    "def crossVal(clf, X, y, cv=3):\n",
    "    scores = []\n",
    "    for i in range(cv):\n",
    "        X_train, X_test, y_train, y_test = cross_validation.train_test_split(X, y, test_size=0.5, stratify=np.array(X['DRG Code']))\n",
    "        clf.fit(X_train, y_train)\n",
    "        predictions = clf.predict(X_test)\n",
    "        scores.append(mean_squared_error(y_test, predictions))\n",
    "        print scores[i]\n",
    "    print \"Average MSE: \", np.mean(scores)"
   ]
  },
  {
   "cell_type": "code",
   "execution_count": 5,
   "metadata": {
    "collapsed": false
   },
   "outputs": [
    {
     "data": {
      "text/plain": [
       "56822730.795006938"
      ]
     },
     "execution_count": 5,
     "metadata": {},
     "output_type": "execute_result"
    }
   ],
   "source": [
    "class baseline(object):\n",
    "    def __init__(self):\n",
    "        self.has_fit = False\n",
    "        \n",
    "    def fit(self, X_train, y_train):\n",
    "        self.average_value = y_train.mean()\n",
    "        self.has_fit = True\n",
    "\n",
    "    def predict(self, X_test):\n",
    "        if self.has_fit:\n",
    "            return np.ones((len(X_test),)) * self.average_value\n",
    "        return None\n",
    "\n",
    "alg = baseline()\n",
    "alg.fit(X_train, y_train)\n",
    "predictions = alg.predict(X_test)\n",
    "mean_squared_error(y_test, predictions)"
   ]
  },
  {
   "cell_type": "markdown",
   "metadata": {},
   "source": [
    "As expected, this model did not perform particularly well.  The root mean squared error was $7,564.69.\n",
    "\n",
    "For a more sophisticated baseline model, we will predict the average cost for the given DRG."
   ]
  },
  {
   "cell_type": "code",
   "execution_count": 6,
   "metadata": {
    "collapsed": false,
    "scrolled": true
   },
   "outputs": [
    {
     "data": {
      "text/plain": [
       "8550945.6168891862"
      ]
     },
     "execution_count": 6,
     "metadata": {},
     "output_type": "execute_result"
    }
   ],
   "source": [
    "class grouped_baseline(object):\n",
    "    def __init__(self):\n",
    "        self.has_fit = False\n",
    "\n",
    "    def fit(self, X_train, y_train):\n",
    "        X_train = X_train.copy()\n",
    "        X_train['Cost'] = y_train\n",
    "        groups = X_train.groupby(['DRG Code'])\n",
    "\n",
    "        # Average the cost for each DRG\n",
    "        self.drg_costs = {}\n",
    "        for ind,data in groups:\n",
    "            self.drg_costs[ind] = data['Cost'].mean()\n",
    "\n",
    "        self.has_fit = True\n",
    "\n",
    "    def predict(self, X_test):\n",
    "        if self.has_fit:\n",
    "            return X_test['DRG Code'].apply(lambda x: self.drg_costs[x])\n",
    "        return None\n",
    "\n",
    "alg = grouped_baseline()\n",
    "alg.fit(X_train, y_train)\n",
    "predictions = alg.predict(X_test)\n",
    "mean_squared_error(y_test, predictions)"
   ]
  },
  {
   "cell_type": "markdown",
   "metadata": {},
   "source": [
    "This model did much better, having a RMSE of $2,902.30.  However, we think we can do better by also using the location information."
   ]
  },
  {
   "cell_type": "markdown",
   "metadata": {},
   "source": [
    "## Random Forest Regressor\n",
    "\n",
    "We will start with a Random Forest, since we have had success with them in the past.  This time, however, it will need to be a Random Forest Regressor instead of a Random Forest Classifier since we want it to predict a continuous value."
   ]
  },
  {
   "cell_type": "code",
   "execution_count": 7,
   "metadata": {
    "collapsed": false,
    "scrolled": true
   },
   "outputs": [
    {
     "data": {
      "text/plain": [
       "5407738.3686212441"
      ]
     },
     "execution_count": 7,
     "metadata": {},
     "output_type": "execute_result"
    }
   ],
   "source": [
    "predictors = ['Latitude','Longitude','DRG Code']\n",
    "alg = RandomForestRegressor(n_estimators=50)\n",
    "alg.fit(X_train[predictors], y_train)\n",
    "predictions = alg.predict(X_test[predictors])\n",
    "mean_squared_error(y_test, predictions)"
   ]
  },
  {
   "cell_type": "markdown",
   "metadata": {},
   "source": [
    "It did better than either of our baseline models, with a RMSE of $2,269.44, but we're not too sure if this is a great result.  We'll try some other models to see if we can do better."
   ]
  },
  {
   "cell_type": "markdown",
   "metadata": {},
   "source": [
    "## Linear Regression\n",
    "\n",
    "The next model we will try is Linear Regression, but we don't have too high of hopes for it because the mapping from latitude and longitude to cost isn't really linear."
   ]
  },
  {
   "cell_type": "code",
   "execution_count": 8,
   "metadata": {
    "collapsed": false
   },
   "outputs": [
    {
     "data": {
      "text/plain": [
       "56162513.386226073"
      ]
     },
     "execution_count": 8,
     "metadata": {},
     "output_type": "execute_result"
    }
   ],
   "source": [
    "predictors = ['Latitude','Longitude','DRG Code']\n",
    "alg = LinearRegression()\n",
    "alg.fit(X_train[predictors], y_train)\n",
    "predictions = alg.predict(X_test[predictors])\n",
    "mean_squared_error(y_test, predictions)"
   ]
  },
  {
   "cell_type": "markdown",
   "metadata": {},
   "source": [
    "As expected, this didn't do too well, resulting in a RMSE of $7,519.29.  We can help out the model by one-hot encoding the categorical features, so we'll try that next."
   ]
  },
  {
   "cell_type": "code",
   "execution_count": 9,
   "metadata": {
    "collapsed": true
   },
   "outputs": [],
   "source": [
    "# Linear Regression with one-hot encoded DRG Code"
   ]
  },
  {
   "cell_type": "code",
   "execution_count": 10,
   "metadata": {
    "collapsed": false
   },
   "outputs": [
    {
     "data": {
      "text/plain": [
       "56162513.386226073"
      ]
     },
     "execution_count": 10,
     "metadata": {},
     "output_type": "execute_result"
    }
   ],
   "source": [
    "predictors = ['Latitude','Longitude','DRG Code']\n",
    "\n",
    "alg.fit(X_train[predictors], y_train)\n",
    "predictions = alg.predict(X_test[predictors])\n",
    "mean_squared_error(y_test, predictions)"
   ]
  },
  {
   "cell_type": "code",
   "execution_count": 11,
   "metadata": {
    "collapsed": false
   },
   "outputs": [
    {
     "name": "stdout",
     "output_type": "stream",
     "text": [
      "3381361.74153\n",
      "3081999.0194\n",
      "3254480.90949\n",
      "Average MSE:  3239280.55681\n"
     ]
    }
   ],
   "source": [
    "predictors = ['Latitude','Longitude','DRG Code']\n",
    "alg = xgb.XGBRegressor(n_estimators=5000)\n",
    "crossVal(alg,X[predictors], X['Average Medicare Payments Num'])"
   ]
  },
  {
   "cell_type": "code",
   "execution_count": null,
   "metadata": {
    "collapsed": true
   },
   "outputs": [],
   "source": []
  },
  {
   "cell_type": "code",
   "execution_count": 12,
   "metadata": {
    "collapsed": true
   },
   "outputs": [],
   "source": [
    "# Linear Regression using HRR"
   ]
  },
  {
   "cell_type": "markdown",
   "metadata": {
    "collapsed": true
   },
   "source": [
    "## Summary of Model Results\n",
    "\n",
    "\n",
    "| Model    | MSE\n",
    "| :---     | --:\n",
    "|baseline  | 56,454,378.43\n",
    "|grouped_bl| 8,402,783.52\n",
    "|RFR       | 5,250,844.69"
   ]
  }
 ],
 "metadata": {
  "kernelspec": {
   "display_name": "Python 2",
   "language": "python",
   "name": "python2"
  },
  "language_info": {
   "codemirror_mode": {
    "name": "ipython",
    "version": 2
   },
   "file_extension": ".py",
   "mimetype": "text/x-python",
   "name": "python",
   "nbconvert_exporter": "python",
   "pygments_lexer": "ipython2",
   "version": "2.7.11"
  }
 },
 "nbformat": 4,
 "nbformat_minor": 0
}
